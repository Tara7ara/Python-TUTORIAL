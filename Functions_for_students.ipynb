{
  "metadata": {
    "kernelspec": {
      "name": "python",
      "display_name": "Python (Pyodide)",
      "language": "python"
    },
    "language_info": {
      "codemirror_mode": {
        "name": "python",
        "version": 3
      },
      "file_extension": ".py",
      "mimetype": "text/x-python",
      "name": "python",
      "nbconvert_exporter": "python",
      "pygments_lexer": "ipython3",
      "version": "3.8"
    }
  },
  "nbformat_minor": 4,
  "nbformat": 4,
  "cells": [
    {
      "cell_type": "markdown",
      "source": "# Functions in Python ",
      "metadata": {}
    },
    {
      "cell_type": "markdown",
      "source": "## 1. Defining and Calling Functions\n\n**Definition:**\nA function is a block of organized, reusable code that is used to perform a specific task. In Python, functions are defined using the def keyword, followed by the function name and parentheses.\n\nFunctions help in structuring the code and making it reusable, which is especially useful in cybersecurity for tasks like encryption, decryption, traffic analysis, and packet filtering.\n\n### Syntax",
      "metadata": {}
    },
    {
      "cell_type": "raw",
      "source": "def function_name(parameters):\n    # Block of code\n    return value  # (Optional)\n",
      "metadata": {}
    },
    {
      "cell_type": "markdown",
      "source": "### Example 1: Basic Function to Check if an IP is Suspicious\n\nLet's create a function that checks whether an IP address belongs to a known list of suspicious IPs.",
      "metadata": {}
    },
    {
      "cell_type": "code",
      "source": "# List of suspicious IP addresses\nsuspicious_ips = [\"192.168.1.100\", \"10.0.0.5\", \"203.0.113.50\"]\n\n# Define a function to check if an IP is suspicious\ndef is_suspicious_ip(ip):\n    if ip in suspicious_ips:\n        return True\n    return False\n\n# Call the function to check\nip_to_check = \"10.0.0.5\"\nresult = is_suspicious_ip(ip_to_check)\nprint(f\"Is {ip_to_check} a suspicious IP? {result}\")\n",
      "metadata": {
        "trusted": true
      },
      "outputs": [
        {
          "name": "stdout",
          "text": "Is 10.0.0.5 a suspicious IP? True\n",
          "output_type": "stream"
        }
      ],
      "execution_count": 4
    },
    {
      "cell_type": "markdown",
      "source": "### Example 2: Function to Log Security Alerts\nYou can use functions to log security events. Here's an example of a function that prints a security alert message when certain keywords are detected in a log entry.",
      "metadata": {}
    },
    {
      "cell_type": "code",
      "source": "# Define a function to log security alerts\ndef log_security_alert(log_entry):\n    if \"malware\" in log_entry or \"attack\" in log_entry:\n        print(f\"Security Alert: Detected threat in log - {log_entry}\")\n    else:\n        print(\"Log entry is safe.\")\n\n# Call the function to log an alert\nlog_security_alert(\"malware detected in network traffic\")\n",
      "metadata": {
        "trusted": true
      },
      "outputs": [
        {
          "name": "stdout",
          "text": "Security Alert: Detected threat in log - malware detected in network traffic\n",
          "output_type": "stream"
        }
      ],
      "execution_count": 5
    },
    {
      "cell_type": "markdown",
      "source": "### Exercises\n\n1) Write a function block_ip(ip) that takes an IP address as input and prints \"IP Blocked\" if the IP is in the blocklist, otherwise print \"IP Safe\". Use this list of blocked IPs: [\"192.168.1.5\", \"10.0.0.2\", \"203.0.113.7\"].",
      "metadata": {}
    },
    {
      "cell_type": "code",
      "source": "# write your code here",
      "metadata": {
        "trusted": true
      },
      "outputs": [],
      "execution_count": 6
    },
    {
      "cell_type": "markdown",
      "source": "2) Define a function check_vulnerability(log_entry) that checks if a log entry contains the word \"vulnerability\". If so, it should return \"Vulnerability Found\", otherwise it should return \"No Vulnerability\".",
      "metadata": {}
    },
    {
      "cell_type": "code",
      "source": "#write your code here",
      "metadata": {
        "trusted": true
      },
      "outputs": [],
      "execution_count": null
    },
    {
      "cell_type": "markdown",
      "source": "3) Create a function has_sql_injection(query) that checks if a given SQL query contains an SQL injection attempt (e.g., ' OR '1'='1). It should return True if an injection is found, otherwise return False.",
      "metadata": {}
    },
    {
      "cell_type": "code",
      "source": "#write your code here",
      "metadata": {
        "trusted": true
      },
      "outputs": [],
      "execution_count": 7
    },
    {
      "cell_type": "markdown",
      "source": "## 2. Parameters and Return Values\n**Definition:**\nFunctions can take parameters (inputs) and can return values. This allows functions to be more flexible and reusable in different situations.\n\n*Parameters:* Values passed to the function when it is called.\n*Return Value:* The result that the function gives back after execution. If no return statement is provided, the function will return None.\n\n### Example 1: Encrypting Data Using a Simple Function\nIn cybersecurity, you might create functions that take data as input and return encrypted or processed data.",
      "metadata": {}
    },
    {
      "cell_type": "code",
      "source": "# Simple encryption function (Caesar cipher with a shift of 3)\ndef caesar_encrypt(plaintext, shift):\n    encrypted = \"\"\n    for char in plaintext:\n        encrypted += chr((ord(char) + shift) % 128)\n    return encrypted\n\n# Call the function to encrypt data\ntext = \"SecureMessage\"\nencrypted_text = caesar_encrypt(text, 3)\nprint(f\"Encrypted Text: {encrypted_text}\")\n",
      "metadata": {
        "trusted": true
      },
      "outputs": [
        {
          "name": "stdout",
          "text": "Encrypted Text: VhfxuhPhvvdjh\n",
          "output_type": "stream"
        }
      ],
      "execution_count": 8
    },
    {
      "cell_type": "markdown",
      "source": "### Example 2: Decrypting Data\n\nSimilarly, you can write a decryption function that takes encrypted data and the shift value as parameters and returns the original data.",
      "metadata": {}
    },
    {
      "cell_type": "code",
      "source": "# Simple decryption function (Caesar cipher)\ndef caesar_decrypt(ciphertext, shift):\n    decrypted = \"\"\n    for char in ciphertext:\n        decrypted += chr((ord(char) - shift) % 128)\n    return decrypted\n\n# Decrypt the previously encrypted text\ndecrypted_text = caesar_decrypt(encrypted_text, 3)\nprint(f\"Decrypted Text: {decrypted_text}\")\n",
      "metadata": {
        "trusted": true
      },
      "outputs": [
        {
          "name": "stdout",
          "text": "Decrypted Text: SecureMessage\n",
          "output_type": "stream"
        }
      ],
      "execution_count": 10
    },
    {
      "cell_type": "markdown",
      "source": "### Exercises\n\n1) Write a function detect_ddos(ip, traffic) that takes an IP address and the amount of traffic (in bytes). If the traffic is greater than 1000 bytes, print \"Potential DDoS attack from {ip}\", otherwise print \"Normal traffic from {ip}\".",
      "metadata": {}
    },
    {
      "cell_type": "code",
      "source": "#write your code here",
      "metadata": {
        "trusted": true
      },
      "outputs": [],
      "execution_count": 12
    },
    {
      "cell_type": "markdown",
      "source": "2.) Define a function xor_encrypt(text, key) that takes a string text and an integer key, and returns the XOR-encrypted result of the text (you can use ord() and chr() for character manipulation).",
      "metadata": {}
    },
    {
      "cell_type": "code",
      "source": "#write your code here",
      "metadata": {
        "trusted": true
      },
      "outputs": [],
      "execution_count": 13
    },
    {
      "cell_type": "markdown",
      "source": "3. Create a function password_strength(password) that takes a password as a parameter and returns:\n\n* \"Weak\" if the password is less than 6 characters.\n* \"Medium\" if the password is between 6 and 10 characters.\n* \"Strong\" if the password is more than 10 characters.",
      "metadata": {}
    },
    {
      "cell_type": "code",
      "source": "#write you code here",
      "metadata": {
        "trusted": true
      },
      "outputs": [],
      "execution_count": 6
    },
    {
      "cell_type": "markdown",
      "source": "## 3. Scope and Lifetime of Variables\n**Definition:**\nThe scope of a variable defines where it can be accessed within the code. In Python:\n\n* Variables defined inside a function have a local scope, meaning they can only be accessed inside that function.\n* Variables defined outside a function have a global scope, meaning they can be accessed anywhere in the code.\n\nThe lifetime of a variable refers to the duration for which the variable exists in memory. For example, a local variable only exists as long as the function is executing.",
      "metadata": {}
    },
    {
      "cell_type": "markdown",
      "source": "### Example 1: Global vs Local Variables in a Password Cracker",
      "metadata": {}
    },
    {
      "cell_type": "code",
      "source": "# Global variable\npassword_attempts = 0\n\ndef crack_password(attempt):\n    # Local variable\n    global password_attempts\n    password_attempts += 1\n    correct_password = \"password123\"\n    if attempt == correct_password:\n        print(\"Access Granted!\")\n    else:\n        print(f\"Access Denied! Attempts: {password_attempts}\")\n\n# Call the function multiple times\ncrack_password(\"password1234\")\ncrack_password(\"password123\")\n",
      "metadata": {
        "trusted": true
      },
      "outputs": [
        {
          "name": "stdout",
          "text": "Access Denied! Attempts: 1\nAccess Granted!\n",
          "output_type": "stream"
        }
      ],
      "execution_count": 14
    },
    {
      "cell_type": "markdown",
      "source": "### Example 2: Local Variables in a Packet Sniffer",
      "metadata": {}
    },
    {
      "cell_type": "code",
      "source": "def analyze_packet(packet):\n    # Local variable\n    suspicious_words = [\"attack\", \"malware\", \"phishing\"]\n    for word in suspicious_words:\n        if word in packet:\n            print(f\"Suspicious packet detected: {packet}\")\n            return True\n    return False\n\n# Packet analysis\npacket = \"User data attack detected\"\nanalyze_packet(packet)\n\n# Try to access local variable (this will cause an error)\n# print(suspicious_words)  # Uncommenting this will raise an error\n",
      "metadata": {
        "trusted": true
      },
      "outputs": [
        {
          "name": "stdout",
          "text": "Suspicious packet detected: User data attack detected\n",
          "output_type": "stream"
        },
        {
          "execution_count": 2,
          "output_type": "execute_result",
          "data": {
            "text/plain": "True"
          },
          "metadata": {}
        }
      ],
      "execution_count": 2
    },
    {
      "cell_type": "markdown",
      "source": "### Exercises\n\n1) Write a function reset_attempts() that resets the global variable login_attempts to 0, and a function attempt_login() that increments the number of attempts. Simulate a failed login mechanism with a global login_attempts variable.\n\n",
      "metadata": {}
    },
    {
      "cell_type": "code",
      "source": "# write your code here",
      "metadata": {
        "trusted": true
      },
      "outputs": [],
      "execution_count": null
    },
    {
      "cell_type": "markdown",
      "source": "2) Create a function detect_intrusion() that takes a log entry and uses a local variable suspicious to detect the words \"unauthorized access\" or \"intrusion\". If detected, return True, otherwise False.",
      "metadata": {}
    },
    {
      "cell_type": "code",
      "source": "# write your code",
      "metadata": {
        "trusted": true
      },
      "outputs": [],
      "execution_count": 7
    },
    {
      "cell_type": "markdown",
      "source": "3) Write a function track_failed_logins() that tracks the number of failed login attempts globally. Each time the function is called, it increments the count. The function should print the total number of failed attempts.",
      "metadata": {}
    },
    {
      "cell_type": "code",
      "source": "# write your code",
      "metadata": {
        "trusted": true
      },
      "outputs": [],
      "execution_count": 8
    },
    {
      "cell_type": "markdown",
      "source": "### Conclusion\nBy the end of this lecture, you should have a clear understanding of how to:\n\n* Define and call functions.\n* Use parameters and return values to make functions more dynamic.\n* Understand variable scope and lifetime, which is critical in preventing issues like variable conflicts, especially in larger cryptographic and cybersecurity projects.\n\nThese concepts are fundamental to writing secure, efficient, and reusable code, which is essential in fields like cybersecurity and cryptography. Functions help encapsulate code logic, making it easier to apply encryption, decryption, and network monitoring across different parts of your code without redundancy.\n\n",
      "metadata": {}
    }
  ]
}