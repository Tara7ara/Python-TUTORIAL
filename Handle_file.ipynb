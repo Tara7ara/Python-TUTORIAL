{
  "metadata": {
    "kernelspec": {
      "name": "python",
      "display_name": "Python (Pyodide)",
      "language": "python"
    },
    "language_info": {
      "codemirror_mode": {
        "name": "python",
        "version": 3
      },
      "file_extension": ".py",
      "mimetype": "text/x-python",
      "name": "python",
      "nbconvert_exporter": "python",
      "pygments_lexer": "ipython3",
      "version": "3.8"
    }
  },
  "nbformat_minor": 4,
  "nbformat": 4,
  "cells": [
    {
      "cell_type": "markdown",
      "source": "# Handling files",
      "metadata": {}
    },
    {
      "cell_type": "markdown",
      "source": "File object are Python code's main interface to external files on your computer.\n",
      "metadata": {}
    },
    {
      "cell_type": "markdown",
      "source": "### Creating a text file",
      "metadata": {}
    },
    {
      "cell_type": "markdown",
      "source": "'x' mode is to create the file",
      "metadata": {}
    },
    {
      "cell_type": "code",
      "source": "f = open('example.txt' , 'x') #return an error if the file already exist\nf.close()",
      "metadata": {
        "trusted": true
      },
      "outputs": [],
      "execution_count": 2
    },
    {
      "cell_type": "markdown",
      "source": "The other methods  also create the file:",
      "metadata": {}
    },
    {
      "cell_type": "markdown",
      "source": "### Writing in a file",
      "metadata": {}
    },
    {
      "cell_type": "markdown",
      "source": "Write 'w' - Opens a file for writing, creates the file if it does not exist",
      "metadata": {}
    },
    {
      "cell_type": "code",
      "source": "f = open('example.txt', 'w')\nf.write('Hello world!\\n')\nf.write('ENTI-UB')\nf.close()",
      "metadata": {
        "trusted": true
      },
      "outputs": [],
      "execution_count": 3
    },
    {
      "cell_type": "markdown",
      "source": "By open on mode 'w', write method will overwrite the text ",
      "metadata": {}
    },
    {
      "cell_type": "markdown",
      "source": "### Reading file",
      "metadata": {}
    },
    {
      "cell_type": "markdown",
      "source": "Read 'r'- Default value. Opens a file for reading, error if the file does not exist",
      "metadata": {}
    },
    {
      "cell_type": "code",
      "source": "f = open('example.txt','r') # 'r' means that the file will be oppened on the read mode\ntext = f.read()\nprint(text)\nf.close()",
      "metadata": {
        "trusted": true
      },
      "outputs": [
        {
          "name": "stdout",
          "text": "Hello world!\nENTI-UB\n",
          "output_type": "stream"
        }
      ],
      "execution_count": 4
    },
    {
      "cell_type": "code",
      "source": "text.split()",
      "metadata": {
        "trusted": true
      },
      "outputs": [
        {
          "execution_count": 5,
          "output_type": "execute_result",
          "data": {
            "text/plain": "['Hello', 'world!', 'ENTI-UB']"
          },
          "metadata": {}
        }
      ],
      "execution_count": 5
    },
    {
      "cell_type": "markdown",
      "source": "### Reading line by line",
      "metadata": {}
    },
    {
      "cell_type": "code",
      "source": "f = open('example.txt')\nfor line in f:\n    print(line)\n\nf.close()",
      "metadata": {
        "trusted": true
      },
      "outputs": [
        {
          "name": "stdout",
          "text": "Hello world!\n\nENTI-UB\n",
          "output_type": "stream"
        }
      ],
      "execution_count": 6
    },
    {
      "cell_type": "code",
      "source": "f= open('example.txt' , 'a')\nf.write('\\n Introduction to programming')",
      "metadata": {
        "trusted": true
      },
      "outputs": [
        {
          "execution_count": 7,
          "output_type": "execute_result",
          "data": {
            "text/plain": "29"
          },
          "metadata": {}
        }
      ],
      "execution_count": 7
    },
    {
      "cell_type": "markdown",
      "source": "### Appending line",
      "metadata": {}
    },
    {
      "cell_type": "markdown",
      "source": "Append 'a' - Opens a file for appending, creates the file if it does not exist",
      "metadata": {}
    },
    {
      "cell_type": "code",
      "source": "f.close()\nf = open('example.txt', 'r')\nfor line in f:\n    print(line)",
      "metadata": {
        "trusted": true
      },
      "outputs": [
        {
          "name": "stdout",
          "text": "Hello world!\n\nENTI-UB\n\n Introduction to programming\n",
          "output_type": "stream"
        }
      ],
      "execution_count": 8
    },
    {
      "cell_type": "code",
      "source": "f.close()",
      "metadata": {
        "trusted": true
      },
      "outputs": [],
      "execution_count": 9
    },
    {
      "cell_type": "markdown",
      "source": "### Exercises",
      "metadata": {}
    },
    {
      "cell_type": "markdown",
      "source": "**Reading from a Text File** - You are given a text file called quotes.txt containing famous quotes, each on a new line. Write a Python program to read the contents of the file and print each quote on a new line with its line number.",
      "metadata": {}
    },
    {
      "cell_type": "code",
      "source": "#write your code",
      "metadata": {
        "trusted": true
      },
      "outputs": [],
      "execution_count": 10
    },
    {
      "cell_type": "markdown",
      "source": "**Writing to a File** -  Consider a dictionary students with their emails, write on a text file the name and the email. One line for each  student.",
      "metadata": {}
    },
    {
      "cell_type": "code",
      "source": "students = {'Jordi': 'Jordi@enti.cat' , 'Núria': 'nuria@enti.cat', 'Joan': 'joan@enti.cat', 'Maria':'maria@enti.cat', 'Pau': 'pau@enti.cat'}",
      "metadata": {
        "trusted": true
      },
      "outputs": [],
      "execution_count": 12
    },
    {
      "cell_type": "code",
      "source": "#write your code",
      "metadata": {
        "trusted": true
      },
      "outputs": [],
      "execution_count": 13
    },
    {
      "cell_type": "markdown",
      "source": "**Counting Words in a File:** -  Write a program that reads the content of the quotes.txt file (from Exercise 1) and counts the total number of words in the file. Print the total word count.",
      "metadata": {}
    },
    {
      "cell_type": "code",
      "source": "# write your code",
      "metadata": {
        "trusted": true
      },
      "outputs": [],
      "execution_count": 14
    },
    {
      "cell_type": "markdown",
      "source": "**Copying File Contents:** Write a Python program to copy the contents of quotes.txt into a new file called quotes_copy.txt.",
      "metadata": {}
    },
    {
      "cell_type": "code",
      "source": "# write your code",
      "metadata": {
        "trusted": true
      },
      "outputs": [],
      "execution_count": 16
    },
    {
      "cell_type": "markdown",
      "source": "**Appending to a File:** We have two new students, Eva - eva@enti.cat i Dolors - dolors@enti.cat. Register them on the file of Exercise 2",
      "metadata": {}
    },
    {
      "cell_type": "code",
      "source": "# write your code",
      "metadata": {
        "trusted": true
      },
      "outputs": [],
      "execution_count": 18
    },
    {
      "cell_type": "markdown",
      "source": "**Searching for a Keyword:** Write a program that reads quotes.txt and prints all lines that contain the word \"today\". Make sure to ignore case when searching.",
      "metadata": {}
    },
    {
      "cell_type": "code",
      "source": "# write your code",
      "metadata": {
        "trusted": true
      },
      "outputs": [],
      "execution_count": 19
    },
    {
      "cell_type": "markdown",
      "source": "**Counting Lines, Words, and Characters:** Write a program to read quotes.txt and calculate:\n* The number of lines in the file.\n* The total number of words in the file.\n* The total number of characters in the file (including spaces).\n\nPrint these values.",
      "metadata": {}
    },
    {
      "cell_type": "code",
      "source": "#write your code\n",
      "metadata": {
        "trusted": true
      },
      "outputs": [],
      "execution_count": 26
    }
  ]
}