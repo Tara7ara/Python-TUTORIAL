{
  "metadata": {
    "kernelspec": {
      "name": "python",
      "display_name": "Python (Pyodide)",
      "language": "python"
    },
    "language_info": {
      "codemirror_mode": {
        "name": "python",
        "version": 3
      },
      "file_extension": ".py",
      "mimetype": "text/x-python",
      "name": "python",
      "nbconvert_exporter": "python",
      "pygments_lexer": "ipython3",
      "version": "3.8"
    }
  },
  "nbformat_minor": 4,
  "nbformat": 4,
  "cells": [
    {
      "cell_type": "markdown",
      "source": "# Map functions over iterables: map\n\n\nA method that applies a function on each item of an iterable (set, list, tuple, etc)",
      "metadata": {}
    },
    {
      "cell_type": "markdown",
      "source": "## Example:\n\nSuppose that you want to take an element of a list and sum 10 to it, and store it in a list. \nWe can do in the following way",
      "metadata": {}
    },
    {
      "cell_type": "markdown",
      "source": "However, we can use the method to do it",
      "metadata": {}
    },
    {
      "cell_type": "markdown",
      "source": "# Selecting items in iterables: filter",
      "metadata": {}
    },
    {
      "cell_type": "markdown",
      "source": "It is an easy way to select items from an iterable. ",
      "metadata": {}
    },
    {
      "cell_type": "markdown",
      "source": "## Example",
      "metadata": {}
    },
    {
      "cell_type": "markdown",
      "source": "Suppose that we want to take only the positive values from a list [-5, -4 ,-3 ,...,3, 4, 5]",
      "metadata": {}
    }
  ]
}