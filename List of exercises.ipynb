{
  "metadata": {
    "kernelspec": {
      "name": "python",
      "display_name": "Python (Pyodide)",
      "language": "python"
    },
    "language_info": {
      "codemirror_mode": {
        "name": "python",
        "version": 3
      },
      "file_extension": ".py",
      "mimetype": "text/x-python",
      "name": "python",
      "nbconvert_exporter": "python",
      "pygments_lexer": "ipython3",
      "version": "3.8"
    }
  },
  "nbformat_minor": 4,
  "nbformat": 4,
  "cells": [
    {
      "cell_type": "markdown",
      "source": "# Control Flow exercises",
      "metadata": {}
    },
    {
      "cell_type": "markdown",
      "source": "## 1. Detecting Malicious Activity in Network Traffic\n\n*Problem:*\nYou are monitoring network traffic and must flag IP addresses that show suspicious activity. You have two lists:\n\n* allowed_ips: IP addresses that are known to be safe.\n* suspicious_activity: A list of IP addresses and the number of suspicious packets detected from that IP.\n\nYour task is to check each IP from the suspicious_activity list. If an IP is not in allowed_ips and has more than 3 suspicious packets, print that the IP needs further investigation.",
      "metadata": {}
    },
    {
      "cell_type": "code",
      "source": "# Hardcoded lists\nallowed_ips = [\"192.168.0.1\", \"10.0.0.1\", \"172.16.0.1\"]\nsuspicious_activity = [\n    {\"ip\": \"192.168.0.2\", \"suspicious_packets\": 5},\n    {\"ip\": \"10.0.0.1\", \"suspicious_packets\": 2},\n    {\"ip\": \"192.168.0.3\", \"suspicious_packets\": 4},\n    {\"ip\": \"172.16.0.1\", \"suspicious_packets\": 1},\n    {\"ip\": \"203.0.113.5\", \"suspicious_packets\": 7}\n]\n\n# Solution\n",
      "metadata": {
        "trusted": true
      },
      "outputs": [],
      "execution_count": 1
    },
    {
      "cell_type": "raw",
      "source": "Expected output:\nIP 192.168.0.2 needs further investigation: 5 suspicious packets.\nIP 192.168.0.3 needs further investigation: 4 suspicious packets.\nIP 203.0.113.5 needs further investigation: 7 suspicious packets.",
      "metadata": {}
    },
    {
      "cell_type": "markdown",
      "source": "## 2. Counting Failed Login Attempts\n\nYou are analyzing a list of login attempts where 0 represents a failed attempt and 1 represents a successful login. The system should flag any user after 3 consecutive failed login attempts.\n\nCount how many users should be flagged based on their login attempts.",
      "metadata": {}
    },
    {
      "cell_type": "code",
      "source": "# Hardcoded login attempts: 0 = fail, 1 = success\nlogin_attempts = [\n    [1, 0, 0, 1, 0, 0, 0],  # User 1\n    [0, 1, 1],              # User 2\n    [0, 0, 0, 0],           # User 3\n    [0, 1, 0, 0],           # User 4\n]\n\n# Solution\n\n",
      "metadata": {
        "trusted": true
      },
      "outputs": [],
      "execution_count": 3
    },
    {
      "cell_type": "raw",
      "source": "Expected output \nNumber of flagged users: 2",
      "metadata": {}
    },
    {
      "cell_type": "markdown",
      "source": "## 3. Firewall Rule Matching\n\nA firewall is configured to block traffic based on specific rules. The firewall logs contain packet information, and the rules are simple:\n\n* If a packet contains the word \"attack\", block the traffic.\n* If a packet contains the word \"malware\", block the traffic.\n* If no dangerous words are found, the traffic is allowed.\n  \nGo through a list of packets and print whether the traffic should be blocked or allowed.",
      "metadata": {}
    },
    {
      "cell_type": "code",
      "source": "# Packet data\npacket_log = [\n    \"GET /index.html\",\n    \"malware detected in POST request\",\n    \"Checking for updates\",\n    \"Potential attack detected in payload\",\n    \"Normal traffic\"\n]\n\n# Solution\n\n",
      "metadata": {
        "trusted": true
      },
      "outputs": [],
      "execution_count": 4
    },
    {
      "cell_type": "raw",
      "source": "Expected output: \nPacket allowed: GET /index.html\nPacket blocked: malware detected in POST request\nPacket allowed: Checking for updates\nPacket blocked: Potential attack detected in payload\nPacket allowed: Normal traffic",
      "metadata": {}
    },
    {
      "cell_type": "code",
      "source": "# Packet data\npacket_log = [\n    \"GET /index.html\",\n    \"malware detected in POST request\",\n    \"Checking for updates\",\n    \"Potential attack detected in payload\",\n    \"Normal traffic\"\n]\n\n# Solution\n\n",
      "metadata": {
        "trusted": true
      },
      "outputs": [],
      "execution_count": 5
    },
    {
      "cell_type": "raw",
      "source": "Packet allowed: GET /index.html\nPacket blocked: malware detected in POST request\nPacket allowed: Checking for updates\nPacket blocked: Potential attack detected in payload\nPacket allowed: Normal traffic",
      "metadata": {}
    },
    {
      "cell_type": "markdown",
      "source": "## 4. Detecting Repeated Unauthorized Access Attempts\n\nYou are monitoring a log of unauthorized access attempts. If an IP address attempts to access the system more than 3 times, it should be flagged. You are given a list of IP addresses, where each entry represents one access attempt.\n\nCount how many IP addresses should be flagged based on the number of attempts.",
      "metadata": {}
    },
    {
      "cell_type": "code",
      "source": "# Hardcoded log of access attempts\naccess_attempts = [\"192.168.0.1\", \"192.168.0.1\", \"192.168.0.2\", \"192.168.0.1\",\n                   \"192.168.0.2\", \"192.168.0.2\", \"192.168.0.3\", \"192.168.0.3\", \"192.168.0.2\"]\n\n# Solution\n\n",
      "metadata": {
        "trusted": true
      },
      "outputs": [],
      "execution_count": 6
    },
    {
      "cell_type": "raw",
      "source": "Expected output\n\nNumber of flagged IPs: 1",
      "metadata": {}
    },
    {
      "cell_type": "markdown",
      "source": "## 5. Password Strength Checker\n\nYou are given a list of passwords and must categorize them based on their strength. The criteria are:\n\n* *Weak:* Passwords less than 6 characters.\n* *Medium:* Passwords between 6 and 10 characters.\n* *Strong:* Passwords longer than 10 characters.\n  \nPrint how many passwords fall into each category.",
      "metadata": {}
    },
    {
      "cell_type": "code",
      "source": "# Hardcoded list of passwords\npasswords = [\"123\", \"password\", \"strongpassword123\", \"qwerty\", \"admin\", \"ilovecoding12345\"]\n\n# Solution\n\n",
      "metadata": {
        "trusted": true
      },
      "outputs": [],
      "execution_count": 7
    },
    {
      "cell_type": "raw",
      "source": "Expected output \nWeak passwords: 2\nMedium passwords: 2\nStrong passwords: 2",
      "metadata": {}
    },
    {
      "cell_type": "markdown",
      "source": "## 6. Log Analysis: Detecting Suspicious Activity Patterns\n\nYou are given a series of network logs with different types of activity. If a log entry contains any of the following suspicious words—\"error\", \"failure\", or \"denied\"—it should be flagged for further review. Count how many logs need further review.",
      "metadata": {}
    },
    {
      "cell_type": "code",
      "source": "# Hardcoded network logs\nlogs = [\n    \"User login successful\",\n    \"Access denied on port 22\",\n    \"System error: disk full\",\n    \"User login failure\",\n    \"Normal activity detected\",\n    \"Permission denied for user\"\n]\n\n# Solution\n\n",
      "metadata": {
        "trusted": true
      },
      "outputs": [],
      "execution_count": 9
    },
    {
      "cell_type": "raw",
      "source": "Expected output \n\nNumber of logs flagged for review: 4",
      "metadata": {}
    },
    {
      "cell_type": "markdown",
      "source": "## 7. Detecting Sequential Failed Login Attempts\n\nYou are given a list of login attempts where 1 represents a successful login and 0 represents a failed attempt. If a user has 2 consecutive failed attempts followed by a successful login, it should be flagged as suspicious activity.\n\nCount how many users show suspicious login behavior.",
      "metadata": {}
    },
    {
      "cell_type": "code",
      "source": "# Hardcoded list of login attempts (each list represents one user's attempts)\nuser_attempts = [\n    [1, 0, 0, 1],      # User 1\n    [0, 1, 1],         # User 2\n    [0, 0, 1, 0],      # User 3\n    [1, 1, 1, 0],      # User 4\n]\n\n# Solution\n\n",
      "metadata": {
        "trusted": true
      },
      "outputs": [],
      "execution_count": 10
    },
    {
      "cell_type": "raw",
      "source": "Number of users with suspicious login behavior: 2",
      "metadata": {}
    }
  ]
}