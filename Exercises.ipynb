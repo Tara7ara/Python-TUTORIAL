{
 "cells": [
  {
   "cell_type": "markdown",
   "id": "30d2f8c2",
   "metadata": {},
   "source": [
    "## Exercises"
   ]
  },
  {
   "cell_type": "markdown",
   "id": "5d12e3f8",
   "metadata": {},
   "source": [
    "## Scenario: Employee Attendance and Salary Management System\n",
    "\n",
    "You are tasked with creating a simple system to manage employee attendance, calculate their monthly salary based on workdays, and handle bonuses and deductions. The exercises will help you develop this system step by step."
   ]
  },
  {
   "cell_type": "code",
   "execution_count": null,
   "id": "754548c9",
   "metadata": {},
   "outputs": [],
   "source": [
    "# List of employees\n",
    "\n",
    "employee_names = [\n",
    "    \"Alice\", \"Bob\", \"Charlie\", \"David\", \"Eva\", \"Frank\", \"Grace\", \"Hannah\", \"Isaac\", \"Jack\",\n",
    "    \"Karen\", \"Liam\", \"Mia\", \"Noah\", \"Olivia\", \"Paul\", \"Quinn\", \"Rachel\", \"Sam\", \"Tina\",\n",
    "    \"Umar\", \"Vera\", \"Wendy\", \"Xander\", \"Yara\", \"Zane\", \"Adam\", \"Bella\", \"Carl\", \"Daisy\",\n",
    "    \"Ethan\", \"Fiona\", \"George\", \"Helen\", \"Ian\", \"Julia\", \"Kevin\", \"Linda\", \"Mark\", \"Nina\",\n",
    "    \"Owen\", \"Penny\", \"Quincy\", \"Rita\", \"Steve\", \"Tara\", \"Uma\", \"Victor\", \"Will\", \"Xena\",\n",
    "    \"Yasmin\", \"Zack\", \"Alex\", \"Brittany\", \"Chris\", \"Dana\", \"Eric\", \"Felicity\", \"Gavin\", \"Harriet\",\n",
    "    \"Ivy\", \"Jonas\", \"Kelly\", \"Leo\", \"Morgan\", \"Nate\", \"Oscar\", \"Patty\", \"Quinton\", \"Rose\",\n",
    "    \"Sean\", \"Tessa\", \"Ulrich\", \"Vivian\", \"Walter\", \"Ximena\", \"Yusuf\", \"Zoey\", \"Aria\", \"Ben\",\n",
    "    \"Caleb\", \"Diana\", \"Elliott\", \"Faith\", \"Gary\", \"Heather\", \"Ivan\", \"Jenna\", \"Kurt\", \"Laura\",\n",
    "    \"Max\", \"Nora\", \"Omar\", \"Peter\", \"Queenie\", \"Ray\", \"Sara\", \"Tom\", \"Uri\", \"Violet\"\n",
    "]\n",
    "\n",
    "\n",
    "\n",
    "# list of salaries (daily)\n",
    "\n",
    "salaries = [\n",
    "    100, 95, 120, 80, 110, 90, 105, 100, 115, 125,\n",
    "    85, 100, 130, 110, 120, 95, 105, 115, 130, 90,\n",
    "    100, 110, 95, 125, 115, 120, 100, 105, 90, 110,\n",
    "    125, 95, 100, 120, 110, 130, 85, 100, 90, 115,\n",
    "    105, 125, 100, 95, 120, 110, 115, 100, 125, 90,\n",
    "    100, 105, 120, 110, 130, 95, 100, 85, 105, 125,\n",
    "    110, 90, 115, 100, 120, 95, 125, 100, 110, 85,\n",
    "    100, 120, 105, 90, 110, 125, 130, 95, 100, 110,\n",
    "    120, 100, 90, 115, 125, 110, 95, 100, 130, 120,\n",
    "    100, 115, 105, 110, 95, 120, 125, 90, 100, 110\n",
    "]\n"
   ]
  },
  {
   "cell_type": "markdown",
   "id": "1867ffdc",
   "metadata": {},
   "source": [
    "## Exercise 1: Store Employee Information\n",
    "\n",
    "Define a dictionary to store the names and daily salaries of the employees.."
   ]
  },
  {
   "cell_type": "code",
   "execution_count": 3,
   "id": "1fd4926b",
   "metadata": {},
   "outputs": [],
   "source": [
    "#write your code here"
   ]
  },
  {
   "cell_type": "markdown",
   "id": "2419bb36",
   "metadata": {},
   "source": [
    "## Exercise 2: Calculate Monthly Salary\n",
    "\n",
    "Write a program that calculates the total monthly salary of each employee assuming 22 working days in a month. Use a for loop to iterate over the dictionary of employees and print each employee’s total monthly salary."
   ]
  },
  {
   "cell_type": "code",
   "execution_count": 5,
   "id": "f448903e",
   "metadata": {},
   "outputs": [],
   "source": [
    "# Write you code here"
   ]
  },
  {
   "cell_type": "markdown",
   "id": "9ceb92fa",
   "metadata": {},
   "source": [
    "## Exercise 3: Track Attendance\n",
    "\n",
    "Expand the dictionary to include the number of days each employee actually worked. Calculate the total salary based on the actual workdays. For this, create another dictionary with the number of workdays for each employee."
   ]
  },
  {
   "cell_type": "code",
   "execution_count": 11,
   "id": "15a947c1",
   "metadata": {},
   "outputs": [],
   "source": [
    "attendance = [22, 24, 23, 19, 16, 15, 17, 15, 23, 17, 15, 25, 17, 25, 17, 19, 23, 20, 19, 15, 25, 21, 20, 16, 24, 25, 22, 23, 21, 20, 20, 22, 17, 15, 18, 21, 24, 25, 24, 15, 24, 16, 17, 20, 21, 24, 17, 15, 21, 15, 23, 19, 16, 18, 16, 16, 15, 25, 15, 25, 20, 22, 16, 22, 20, 22, 24, 23, 25, 21, 15, 18, 21, 22, 24, 25, 17, 16, 20, 21, 23, 21, 22, 22, 20, 19, 16, 22, 17, 20, 15, 22, 21, 19, 24, 16, 24, 23, 22, 19]\n"
   ]
  },
  {
   "cell_type": "code",
   "execution_count": 13,
   "id": "37e2d5e9",
   "metadata": {},
   "outputs": [],
   "source": [
    "#write your code here"
   ]
  },
  {
   "cell_type": "markdown",
   "id": "89c56c08",
   "metadata": {},
   "source": [
    "## Exercise 4: Detect Overtime and Underwork\n",
    "\n",
    "Add logic to check if an employee has worked more than 22 days (overtime) or less than 18 days (underwork). For each employee, print a message if they have worked overtime or underwork."
   ]
  },
  {
   "cell_type": "code",
   "execution_count": null,
   "id": "5c712ff9",
   "metadata": {},
   "outputs": [],
   "source": [
    "# write your code here"
   ]
  },
  {
   "cell_type": "markdown",
   "id": "96a0dae6",
   "metadata": {},
   "source": [
    "## Exercise 5: Apply Bonus and Deductions\n",
    "\n",
    "Create a function called calculate_salary() that accepts three parameters: the daily salary, the number of actual workdays, and the number of normal workdays (22). This function should return the adjusted salary based on bonuses or deductions. Give a 10% bonus to employees who worked more than 22 days (overtime) and a 10% deduction for employees who worked less than 18 days (underwork).\n",
    "\n",
    "Call this function for each employee and print the results."
   ]
  },
  {
   "cell_type": "code",
   "execution_count": 15,
   "id": "9a5ecf2e",
   "metadata": {},
   "outputs": [],
   "source": [
    "# write your code here"
   ]
  },
  {
   "cell_type": "markdown",
   "id": "f5e520f8",
   "metadata": {},
   "source": [
    "## Exercise 6: Track Annual Salary and Identify Best Employee\n",
    "\n",
    "Add logic to track each employee's salary over 12 months. Calculate the total annual salary for each employee and print the name of the employee with the highest total annual salary."
   ]
  },
  {
   "cell_type": "code",
   "execution_count": null,
   "id": "6e97dbb2",
   "metadata": {},
   "outputs": [],
   "source": [
    "secondMonth = [25, 19, 16, 18, 25, 24, 15, 21, 20, 25, 17, 18, 24, 24, 22, 21, 16, 20, 20, 24, 23, 15, 15, 25, 15, 20, 18, 25, 19, 19, 24, 16, 16, 25, 22, 23, 16, 16, 21, 24, 15, 24, 22, 23, 16, 15, 25, 15, 23, 22, 22, 16, 18, 15, 16, 20, 20, 16, 23, 17, 17, 24, 25, 20, 23, 21, 22, 21, 19, 17, 19, 23, 23, 21, 19, 18, 25, 24, 24, 21, 23, 23, 18, 18, 17, 19, 24, 22, 25, 25, 19, 18, 18, 16, 23, 25, 21, 19, 23, 18]\n",
    "thirdMonth = [15, 19, 25, 24, 15, 19, 15, 25, 16, 17, 23, 24, 23, 24, 22, 20, 22, 18, 25, 20, 20, 24, 22, 22, 16, 25, 20, 17, 20, 24, 23, 22, 18, 20, 24, 17, 21, 17, 21, 17, 19, 20, 22, 22, 17, 17, 22, 24, 23, 21, 24, 16, 17, 15, 24, 20, 20, 17, 21, 24, 24, 20, 16, 22, 20, 19, 18, 20, 20, 19, 23, 19, 21, 24, 25, 16, 24, 24, 21, 18, 21, 16, 24, 20, 21, 25, 24, 20, 20, 22, 20, 17, 15, 25, 20, 19, 15, 21, 15, 16]\n",
    "forthMonth = [25, 23, 25, 15, 15, 17, 21, 15, 19, 17, 18, 25, 22, 15, 15, 18, 17, 24, 18, 19, 24, 20, 18, 15, 16, 15, 25, 25, 15, 16, 23, 17, 17, 20, 22, 17, 22, 20, 20, 21, 15, 25, 15, 18, 25, 18, 15, 17, 21, 21, 15, 23, 19, 17, 19, 19, 18, 17, 25, 24, 16, 22, 21, 22, 23, 20, 19, 17, 18, 20, 19, 20, 22, 25, 19, 23, 25, 22, 23, 15, 17, 22, 20, 20, 23, 19, 21, 25, 22, 23, 22, 15, 15, 18, 20, 18, 18, 19, 24, 25]\n",
    "fifthMonth = [21, 22, 25, 18, 23, 16, 19, 19, 19, 24, 15, 19, 23, 24, 24, 18, 21, 18, 22, 23, 17, 15, 25, 25, 20, 16, 24, 19, 25, 18, 15, 22, 19, 15, 16, 24, 23, 21, 16, 16, 15, 15, 24, 19, 18, 17, 16, 17, 25, 15, 18, 15, 25, 16, 22, 22, 16, 23, 21, 17, 15, 24, 16, 23, 24, 21, 21, 22, 20, 25, 22, 22, 18, 20, 19, 20, 22, 21, 23, 19, 21, 15, 24, 22, 19, 25, 15, 15, 21, 15, 15, 19, 18, 25, 21, 18, 15, 20, 25, 22]\n",
    "sixthMonth = [25, 23, 17, 16, 21, 20, 20, 17, 19, 21, 23, 17, 15, 24, 21, 17, 23, 21, 21, 17, 19, 21, 25, 24, 17, 24, 19, 19, 15, 20, 20, 16, 21, 17, 17, 20, 25, 25, 16, 19, 21, 25, 15, 24, 25, 24, 16, 23, 15, 17, 18, 21, 25, 17, 19, 25, 25, 20, 20, 20, 18, 19, 19, 18, 23, 21, 17, 23, 24, 16, 16, 22, 20, 16, 22, 16, 22, 20, 23, 18, 22, 22, 18, 16, 20, 16, 21, 24, 23, 25, 23, 16, 18, 19, 20, 17, 15, 16, 18, 24]\n",
    "seventhMonth = [21, 24, 24, 18, 22, 23, 15, 22, 24, 22, 23, 24, 21, 25, 19, 25, 24, 15, 15, 21, 21, 22, 21, 22, 19, 16, 15, 19, 22, 17, 18, 25, 24, 23, 24, 21, 19, 17, 23, 15, 23, 16, 16, 20, 16, 24, 24, 18, 16, 24, 25, 20, 23, 24, 25, 17, 19, 15, 19, 24, 15, 19, 23, 20, 20, 24, 16, 16, 23, 17, 25, 22, 23, 18, 18, 22, 15, 19, 21, 19, 18, 24, 20, 16, 16, 19, 23, 16, 25, 24, 18, 23, 22, 22, 19, 24, 15, 24, 16, 23]\n",
    "eighthMonth = [25, 21, 18, 19, 21, 19, 18, 20, 16, 18, 22, 17, 23, 22, 25, 18, 16, 15, 19, 18, 20, 23, 19, 24, 25, 18, 19, 19, 15, 23, 16, 16, 15, 16, 25, 18, 22, 23, 20, 17, 22, 22, 23, 21, 25, 15, 17, 21, 25, 17, 22, 16, 15, 20, 25, 25, 20, 23, 21, 24, 19, 17, 21, 23, 25, 16, 23, 22, 15, 23, 25, 20, 21, 16, 16, 21, 25, 19, 20, 19, 17, 23, 24, 17, 17, 21, 24, 17, 17, 20, 24, 23, 16, 15, 22, 20, 16, 21, 25, 20]\n",
    "ninthMonth = [25, 17, 23, 24, 20, 16, 16, 20, 23, 24, 15, 18, 20, 25, 23, 25, 23, 21, 25, 19, 15, 18, 21, 24, 23, 20, 19, 21, 20, 17, 25, 16, 16, 23, 15, 24, 20, 20, 19, 19, 19, 20, 19, 19, 22, 25, 21, 15, 18, 24, 24, 15, 21, 16, 24, 17, 19, 23, 19, 18, 16, 21, 20, 18, 23, 22, 16, 19, 18, 24, 16, 15, 19, 21, 22, 15, 19, 17, 18, 20, 20, 24, 25, 16, 22, 19, 22, 15, 15, 17, 17, 16, 24, 21, 16, 15, 17, 20, 21, 20]\n",
    "tenthMonth = [25, 24, 17, 16, 18, 16, 18, 24, 20, 17, 21, 17, 21, 24, 23, 21, 25, 20, 18, 17, 19, 25, 23, 15, 23, 19, 24, 20, 21, 25, 24, 22, 18, 22, 17, 19, 18, 18, 19, 17, 18, 17, 18, 18, 16, 24, 21, 18, 21, 22, 21, 16, 17, 24, 18, 20, 22, 16, 22, 20, 25, 17, 21, 23, 23, 20, 20, 15, 24, 20, 22, 20, 15, 25, 23, 21, 23, 25, 17, 21, 20, 23, 16, 18, 23, 25, 22, 17, 15, 20, 25, 22, 25, 16, 23, 15, 24, 25, 25, 15]\n",
    "eleventhMonth = [24, 17, 18, 18, 19, 21, 22, 25, 22, 19, 23, 25, 15, 16, 21, 25, 19, 18, 15, 21, 25, 20, 22, 15, 17, 20, 18, 24, 16, 24, 18, 18, 21, 19, 15, 24, 25, 24, 24, 21, 24, 20, 17, 17, 19, 19, 23, 17, 22, 24, 25, 15, 17, 15, 22, 20, 25, 21, 19, 23, 21, 24, 19, 21, 16, 18, 19, 18, 24, 20, 19, 25, 24, 19, 24, 16, 20, 18, 18, 20, 16, 23, 22, 25, 20, 18, 19, 15, 19, 15, 21, 20, 20, 16, 16, 24, 21, 15, 23, 24]\n",
    "twelthMonth = [24, 25, 17, 19, 19, 18, 20, 19, 21, 15, 15, 18, 23, 19, 19, 25, 18, 17, 24, 25, 18, 24, 19, 19, 25, 17, 20, 18, 15, 16, 23, 24, 15, 23, 16, 18, 19, 22, 23, 20, 23, 15, 17, 20, 20, 23, 24, 17, 19, 15, 17, 16, 20, 16, 23, 16, 24, 21, 20, 24, 21, 16, 20, 20, 22, 24, 18, 19, 15, 16, 24, 20, 16, 23, 17, 20, 24, 17, 25, 21, 20, 21, 19, 16, 20, 16, 21, 16, 19, 15, 18, 25, 17, 20, 18, 23, 21, 15, 22, 20]\n"
   ]
  },
  {
   "cell_type": "code",
   "execution_count": 29,
   "id": "40468c80",
   "metadata": {},
   "outputs": [],
   "source": [
    "#write your code here"
   ]
  },
  {
   "cell_type": "markdown",
   "id": "90371179",
   "metadata": {},
   "source": [
    "## Exercise 7: Identify Employees for Promotion\n",
    "\n",
    "Write an additional check to identify employees who should be considered for promotion based on their consistently high attendance (e.g., worked more than 22 days for at least 10 out of 12 months). Print their names."
   ]
  },
  {
   "cell_type": "code",
   "execution_count": null,
   "id": "b6adc838",
   "metadata": {},
   "outputs": [],
   "source": [
    "# write your code"
   ]
  }
 ],
 "metadata": {
  "kernelspec": {
   "display_name": "Python 3 (ipykernel)",
   "language": "python",
   "name": "python3"
  },
  "language_info": {
   "codemirror_mode": {
    "name": "ipython",
    "version": 3
   },
   "file_extension": ".py",
   "mimetype": "text/x-python",
   "name": "python",
   "nbconvert_exporter": "python",
   "pygments_lexer": "ipython3",
   "version": "3.8.10"
  }
 },
 "nbformat": 4,
 "nbformat_minor": 5
}
