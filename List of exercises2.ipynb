{
  "metadata": {
    "kernelspec": {
      "name": "python",
      "display_name": "Python (Pyodide)",
      "language": "python"
    },
    "language_info": {
      "codemirror_mode": {
        "name": "python",
        "version": 3
      },
      "file_extension": ".py",
      "mimetype": "text/x-python",
      "name": "python",
      "nbconvert_exporter": "python",
      "pygments_lexer": "ipython3",
      "version": "3.8"
    }
  },
  "nbformat_minor": 4,
  "nbformat": 4,
  "cells": [
    {
      "cell_type": "markdown",
      "source": "# List of exercises",
      "metadata": {}
    },
    {
      "cell_type": "markdown",
      "source": "**1) Write a function even_or_odd(n) that takes an integer n and returns \"Even\" if the number is even and \"Odd\" if the number is odd.**",
      "metadata": {}
    },
    {
      "cell_type": "code",
      "source": "## write your code here",
      "metadata": {
        "trusted": true
      },
      "outputs": [],
      "execution_count": 19
    },
    {
      "cell_type": "markdown",
      "source": "**2) Write a function find_largest(lst) that takes a list of integers and returns the largest number in the list.**",
      "metadata": {}
    },
    {
      "cell_type": "code",
      "source": "## write your code here",
      "metadata": {
        "trusted": true
      },
      "outputs": [],
      "execution_count": 1
    },
    {
      "cell_type": "markdown",
      "source": "**3) Write a function sum_of_numbers(lst) that calculates the sum of all the numbers in a list.**",
      "metadata": {}
    },
    {
      "cell_type": "code",
      "source": "## write your code here ",
      "metadata": {
        "trusted": true
      },
      "outputs": [],
      "execution_count": 3
    },
    {
      "cell_type": "markdown",
      "source": "**4) Write a function count_vowels(s) that takes a string s and counts how many vowels (a, e, i, o, u) are in the string.**",
      "metadata": {}
    },
    {
      "cell_type": "code",
      "source": "## write your code here ",
      "metadata": {
        "trusted": true
      },
      "outputs": [],
      "execution_count": null
    },
    {
      "cell_type": "markdown",
      "source": "**5) Write a function find_primes(start, end) that finds all prime numbers between start and end (inclusive).**",
      "metadata": {}
    },
    {
      "cell_type": "code",
      "source": "## write your code here",
      "metadata": {
        "trusted": true
      },
      "outputs": [],
      "execution_count": null
    },
    {
      "cell_type": "markdown",
      "source": "**6) Write a function multiplication_table(n) that prints the multiplication table for a given number n.**",
      "metadata": {}
    },
    {
      "cell_type": "code",
      "source": "## write your code here",
      "metadata": {
        "trusted": true
      },
      "outputs": [],
      "execution_count": 5
    },
    {
      "cell_type": "markdown",
      "source": "**7) Write a function factorial(n) that calculates the factorial of a number using a loop.**",
      "metadata": {}
    },
    {
      "cell_type": "code",
      "source": "## write your code here",
      "metadata": {
        "trusted": true
      },
      "outputs": [],
      "execution_count": 6
    },
    {
      "cell_type": "markdown",
      "source": "**8) Write a function fizzbuzz() that prints the numbers from 1 to 50. But for multiples of 3, print \"Fizz\", for multiples of 5, print \"Buzz\", and for multiples of both 3 and 5, print \"FizzBuzz\".**",
      "metadata": {}
    },
    {
      "cell_type": "code",
      "source": "# write your code here",
      "metadata": {
        "trusted": true
      },
      "outputs": [],
      "execution_count": 7
    },
    {
      "cell_type": "markdown",
      "source": "**9) Write a function find_min_max(lst) that returns both the smallest and largest number in a list.**",
      "metadata": {}
    },
    {
      "cell_type": "code",
      "source": "# write your code here",
      "metadata": {
        "trusted": true
      },
      "outputs": [],
      "execution_count": 8
    },
    {
      "cell_type": "markdown",
      "source": "**10) Write a function reverse_list(lst) that takes a list and returns a new list that is the reverse of the input list.**",
      "metadata": {}
    },
    {
      "cell_type": "code",
      "source": "# write your code here",
      "metadata": {
        "trusted": true
      },
      "outputs": [],
      "execution_count": 10
    },
    {
      "cell_type": "markdown",
      "source": "**11) Write a function that categorizes a person's age into three groups:**\n\n* \"Child\" if age is less than 12, \n* \"Teenager\" if age is between 12 and 18 (inclusive),\n* \"Adult\" if age is greater than 18.",
      "metadata": {}
    },
    {
      "cell_type": "code",
      "source": "# write your code here",
      "metadata": {
        "trusted": true
      },
      "outputs": [],
      "execution_count": 11
    },
    {
      "cell_type": "markdown",
      "source": "**12) Write a function that prints all multiples of n between 1 and 30.**",
      "metadata": {}
    },
    {
      "cell_type": "code",
      "source": "# write your code here",
      "metadata": {
        "trusted": true
      },
      "outputs": [],
      "execution_count": 12
    },
    {
      "cell_type": "markdown",
      "source": "**13) Write a function area_of_circle(radius) that calculates and returns the area of a circle, given the radius. Use the formula:\nArea = π * radius^2 (Use π = 3.14159).**",
      "metadata": {}
    },
    {
      "cell_type": "code",
      "source": "# write your code here",
      "metadata": {
        "trusted": true
      },
      "outputs": [],
      "execution_count": 13
    },
    {
      "cell_type": "markdown",
      "source": "**14) Write a function find_largest(a, b, c) that takes three numbers as arguments and returns the largest one.**",
      "metadata": {}
    },
    {
      "cell_type": "code",
      "source": "# write your code here",
      "metadata": {
        "trusted": true
      },
      "outputs": [],
      "execution_count": 14
    },
    {
      "cell_type": "markdown",
      "source": "**15)Write a function fahrenheit_to_celsius(fahrenheit) that converts a given temperature from Fahrenheit to Celsius using the formula:\nCelsius = (Fahrenheit - 32) * 5/9**",
      "metadata": {}
    },
    {
      "cell_type": "code",
      "source": "# write your code here",
      "metadata": {
        "trusted": true
      },
      "outputs": [],
      "execution_count": 15
    },
    {
      "cell_type": "markdown",
      "source": "**16) Each new term in the Fibonacci sequence is generated by adding the previous two terms. By starting with 1 and 2 , the first 10 terms will be:**\n\n1, 2, 3, 5, 8, 13, 21, 24, 55, 89...\n\n**By considering the terms in the Fibonacci sequence whose values do not exceed four million, find the sum of the even-valued terms.**",
      "metadata": {}
    },
    {
      "cell_type": "code",
      "source": "# write your code here",
      "metadata": {
        "trusted": true
      },
      "outputs": [],
      "execution_count": 17
    },
    {
      "cell_type": "raw",
      "source": "expected output:\n\nThe sum of the even-valued terms is 4613732",
      "metadata": {}
    },
    {
      "cell_type": "markdown",
      "source": "**17) The prime factors of 13195 are 5,7,13 and 29. What is the largest prime factor of the number 600851475143?** ",
      "metadata": {}
    },
    {
      "cell_type": "code",
      "source": "# write your code here",
      "metadata": {
        "trusted": true
      },
      "outputs": [],
      "execution_count": 18
    },
    {
      "cell_type": "raw",
      "source": "expected output\nthe largest prime factor of  600851475143 is 6857",
      "metadata": {}
    },
    {
      "cell_type": "markdown",
      "source": "**18) A palindromic number reads the same both ways. The largest palindrome made from the product of two \n2-digit numbers is 9009 = 91x99. Find the largest palindrome made from the product of two \n-digit numbers.**",
      "metadata": {}
    },
    {
      "cell_type": "code",
      "source": "# write your code here",
      "metadata": {
        "trusted": true
      },
      "outputs": [],
      "execution_count": null
    },
    {
      "cell_type": "raw",
      "source": "Expected output:\nThe largest palindrome made from the product of two 3-digit numbers is 906609",
      "metadata": {}
    },
    {
      "cell_type": "markdown",
      "source": "**19) 2520 is the smallest number that can be divided by each of the numbers from 1 to 10 without any remainder. What is the smallest positive number that is evenly divisible by all of the numbers from 1 to 20?**",
      "metadata": {}
    },
    {
      "cell_type": "code",
      "source": "# write your code here",
      "metadata": {
        "trusted": true
      },
      "outputs": [],
      "execution_count": 20
    },
    {
      "cell_type": "raw",
      "source": "Expected output:\nThe smallest positive number that is evenly divisible by all of the numbers from 1 to 20 is 232792560",
      "metadata": {}
    },
    {
      "cell_type": "markdown",
      "source": "**20) The sum of the squares of the first ten natural numbers is**\n$1^2+2^2+...+10^2=385.$\n\n**The square of the sum of the first ten natural numbers is**\n $(1+2+...+10)^2=55^2=3025.$\n\n**Hence the difference between the sum of the squares of the first ten natural numbers and the square of the sum is** $3025−385=2640$.\n\n**Find the difference between the sum of the squares of the first one hundred natural numbers and the square of the sum.**",
      "metadata": {}
    },
    {
      "cell_type": "code",
      "source": "#write your cod ehere",
      "metadata": {
        "trusted": true
      },
      "outputs": [],
      "execution_count": 21
    },
    {
      "cell_type": "raw",
      "source": "Expected output: 25164150",
      "metadata": {}
    },
    {
      "cell_type": "markdown",
      "source": "**21) By listing the first six prime numbers: 2, 3, 5, 7, 11, and 13, we can see that the 6th prime is 13. What is the 10 001st prime number?**",
      "metadata": {}
    },
    {
      "cell_type": "code",
      "source": "### write your code here",
      "metadata": {
        "trusted": true
      },
      "outputs": [],
      "execution_count": 24
    },
    {
      "cell_type": "raw",
      "source": "expected output\n\n# The 10 001st prime number 104743",
      "metadata": {}
    }
  ]
}