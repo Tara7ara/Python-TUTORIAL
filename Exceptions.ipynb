{
 "cells": [
  {
   "cell_type": "markdown",
   "metadata": {},
   "source": [
    "# Exceptions"
   ]
  },
  {
   "cell_type": "markdown",
   "metadata": {},
   "source": [
    "Exception handling ensures your program can handle errors gracefully, preventing crashes and undefined behavior."
   ]
  },
  {
   "cell_type": "markdown",
   "metadata": {},
   "source": [
    "## 1 Understanding Exceptions\n",
    "Exceptions occur when the program encounters an error during execution. Common examples:\n",
    "\n",
    "* FileNotFoundError: Trying to open a file that doesn't exist\n",
    "* ValueError: Invalid value for an operation\n",
    "* ZeroDivisionError: Dividing by zero"
   ]
  },
  {
   "cell_type": "markdown",
   "metadata": {},
   "source": [
    "## 2 The try-except Block\n",
    "\n",
    "The basic structure to handle exceptions is:"
   ]
  },
  {
   "cell_type": "raw",
   "metadata": {},
   "source": [
    "try:\n",
    "    # Code that might raise an exception\n",
    "except ExceptionType (optional):\n",
    "    # Code to handle the exception\")\n"
   ]
  },
  {
   "cell_type": "code",
   "execution_count": null,
   "metadata": {
    "trusted": true
   },
   "outputs": [
    {
     "name": "stdout",
     "output_type": "stream",
     "text": [
      "An exception occurred\n"
     ]
    }
   ],
   "source": [
    "try:\n",
    "  print(x)\n",
    "except:\n",
    "  print(\"An exception occurred\")"
   ]
  },
  {
   "cell_type": "code",
   "execution_count": null,
   "metadata": {
    "trusted": true
   },
   "outputs": [
    {
     "name": "stdout",
     "output_type": "stream",
     "text": [
      "File not found! Check the file name or path.\n"
     ]
    }
   ],
   "source": [
    "try:\n",
    "    with open('nonexistent.txt', 'r') as file:\n",
    "        content = file.read()\n",
    "except FileNotFoundError:\n",
    "    print(\"File not found! Check the file name or path.\")\n"
   ]
  },
  {
   "cell_type": "markdown",
   "metadata": {},
   "source": [
    "## Many exceptions"
   ]
  },
  {
   "cell_type": "markdown",
   "metadata": {},
   "source": [
    "You can define as many exception blocks as you want, e.g. if you want to execute a special block of code for a special kind of error:"
   ]
  },
  {
   "cell_type": "code",
   "execution_count": null,
   "metadata": {
    "trusted": true
   },
   "outputs": [
    {
     "name": "stdout",
     "output_type": "stream",
     "text": [
      "Variable x is not defined\n"
     ]
    }
   ],
   "source": [
    "try:\n",
    "    print(x)\n",
    "except NameError:\n",
    "    print(\"Variable x is not defined\")\n",
    "except:\n",
    "    print(\"Something else went wrong\")"
   ]
  },
  {
   "cell_type": "markdown",
   "metadata": {},
   "source": [
    "### Exercise 1: Handling Division by Zero\n",
    "Write a program that performs division between two numbers. Use a try block to catch a ZeroDivisionError if the denominator is zero. Display a custom error message and allow the program to continue."
   ]
  },
  {
   "cell_type": "code",
   "execution_count": null,
   "metadata": {
    "trusted": true
   },
   "outputs": [],
   "source": []
  },
  {
   "cell_type": "markdown",
   "metadata": {},
   "source": [
    "### Exercise 2: File Operations with Exception Handling\n",
    "Create a script that:\n",
    "\n",
    "Tries to open a file called data.txt for reading.\n",
    "If the file doesn't exist, catches the FileNotFoundError and displays \"File not found. Please check the file path.\""
   ]
  },
  {
   "cell_type": "code",
   "execution_count": null,
   "metadata": {
    "trusted": true
   },
   "outputs": [],
   "source": [
    "try:\n",
    "    pass\n",
    "except FileExistsError:\n",
    "    pass"
   ]
  },
  {
   "cell_type": "markdown",
   "metadata": {},
   "source": [
    "### Exercise 3: Handling Multiple Exceptions\n",
    "Write a program that tries to:\n",
    "\n",
    "Read a number from a list of strings: values = [\"10\", \"20\", \"invalid\", \"30\"].\n",
    "Perform division with a fixed divisor, e.g., 5.\n",
    "Catch both ValueError (if conversion fails) and ZeroDivisionError (if divisor becomes zero)."
   ]
  },
  {
   "cell_type": "code",
   "execution_count": null,
   "metadata": {
    "trusted": true
   },
   "outputs": [
    {
     "name": "stdout",
     "output_type": "stream",
     "text": [
      "10 divided by 5 is 2.0\n",
      "20 divided by 5 is 4.0\n",
      "ValueError: Cannot convert 'invalid' to an integer.\n",
      "30 divided by 5 is 6.0\n"
     ]
    }
   ],
   "source": [
    "values = [\"10\", \"20\", \"invalid\", \"30\"]\n",
    "divisor = 5\n",
    "\n",
    "for value in values:\n",
    "    try:\n",
    "        number = int(value)\n",
    "        result = number / divisor\n",
    "        print(f\"{number} divided by {divisor} is {result}\")\n",
    "    except ValueError:\n",
    "        print(f\"ValueError: Cannot convert '{value}' to an integer.\")  \n",
    "    except ZeroDivisionError:\n",
    "        print(f\"ZeroDivisionError: Cannot divide by zero.\")"
   ]
  },
  {
   "cell_type": "markdown",
   "metadata": {},
   "source": [
    "### Exercise 4: Type Conversion with Error Handling\n",
    "Write a program that tries to:\n",
    "\n",
    "Convert a list of strings to integers using int(). <br>\n",
    "Use a try block to catch a ValueError if any string cannot be converted. <br>\n",
    "Continue converting the rest of the strings after handling the error. <br>\n",
    "Example list: [\"42\", \"hello\", \"99\", \"world\"] "
   ]
  },
  {
   "cell_type": "code",
   "execution_count": null,
   "metadata": {
    "trusted": true
   },
   "outputs": [
    {
     "name": "stdout",
     "output_type": "stream",
     "text": [
      "ValueError: Cannot convert 'hello' to an integer.\n",
      "ValueError: Cannot convert 'world' to an integer.\n",
      "Successfully converted integers: [42, 99]\n"
     ]
    }
   ],
   "source": [
    "strings = [\"42\", \"hello\", \"99\", \"world\"]\n",
    "converted_integers = []\n",
    "for string in strings:\n",
    "    try:\n",
    "        number = int(string)\n",
    "        converted_integers.append(number)\n",
    "    except ValueError:\n",
    "        print(f\"ValueError: Cannot convert '{string}' to an integer.\")\n",
    "print(\"Successfully converted integers:\", converted_integers)\n"
   ]
  },
  {
   "cell_type": "markdown",
   "metadata": {},
   "source": [
    "### Exercise 5: Nested try Blocks\n",
    "Write a program that:\n",
    "\n",
    "Uses a nested try block to first open a file and then read integers from it. <br>\n",
    "Catches a FileNotFoundError for the outer block (if the file doesn't exist).<br>\n",
    "Catches a ValueError for the inner block (if a line in the file cannot be converted to an integer).<br>\n",
    "Example file (numbers.txt):"
   ]
  },
  {
   "cell_type": "raw",
   "metadata": {
    "vscode": {
     "languageId": "raw"
    }
   },
   "source": [
    "file_name = \"numbers.txt\"\n",
    "\n",
    "try:\n",
    "    with open(file_name, \"r\") as file:\n",
    "        print(f\"Successfully opened file: {file_name}\")\n",
    "        \n",
    "        for line in file:\n",
    "            try:\n",
    "                number = int(line.strip())\n",
    "                print(f\"Converted to integer: {number}\")\n",
    "            except ValueError:\n",
    "                print(f\"ValueError: Cannot convert '{line.strip()}' to an integer.\")\n",
    "\n",
    "except FileNotFoundError:\n",
    "    print(f\"FileNotFoundError: The file '{file_name}' was not found.\")\n"
   ]
  },
  {
   "cell_type": "markdown",
   "metadata": {},
   "source": [
    "Expected behavior:\n",
    "\n",
    "If the file is missing, print: \"The file was not found.\" <br>\n",
    "If any line cannot be converted, print: \"Invalid number found in file: hello.\" Continue processing the remaining lines. <br>"
   ]
  },
  {
   "cell_type": "markdown",
   "metadata": {},
   "source": [
    "## 3 The else Block"
   ]
  },
  {
   "cell_type": "markdown",
   "metadata": {},
   "source": [
    "The else block runs only if no exceptions are raised."
   ]
  },
  {
   "cell_type": "code",
   "execution_count": null,
   "metadata": {
    "trusted": true
   },
   "outputs": [
    {
     "name": "stdout",
     "output_type": "stream",
     "text": [
      "Hello\n",
      "Nothing went wrong\n"
     ]
    }
   ],
   "source": [
    "try:\n",
    "  print(\"Hello\")\n",
    "except:\n",
    "  print(\"Something went wrong\")\n",
    "else:\n",
    "  print(\"Nothing went wrong\")"
   ]
  },
  {
   "cell_type": "code",
   "execution_count": null,
   "metadata": {
    "trusted": true
   },
   "outputs": [
    {
     "name": "stdout",
     "output_type": "stream",
     "text": [
      "Hello\n",
      "Nothing went wrong\n"
     ]
    }
   ],
   "source": [
    "try:\n",
    "  print(\"Hello\")\n",
    "except:\n",
    "  print(\"Something went wrong\")\n",
    "\n",
    "print(\"Nothing went wrong\")"
   ]
  },
  {
   "cell_type": "code",
   "execution_count": null,
   "metadata": {
    "trusted": true
   },
   "outputs": [
    {
     "name": "stdout",
     "output_type": "stream",
     "text": [
      "File not found.\n"
     ]
    }
   ],
   "source": [
    "try:\n",
    "    with open('example.txt', 'r') as file:\n",
    "        content = file.read()\n",
    "except FileNotFoundError:\n",
    "    print(\"File not found.\")\n",
    "else:\n",
    "    print(\"File read successfully:\", content)\n"
   ]
  },
  {
   "cell_type": "markdown",
   "metadata": {},
   "source": [
    "### Exercise 1: Division with else Block\n",
    "Write a program that:\n",
    "\n",
    "Performs division between two numbers. <br>\n",
    "Uses a try block to catch a ZeroDivisionError. <br>\n",
    "If no exception occurs, the else block should print the result of the division. "
   ]
  },
  {
   "cell_type": "code",
   "execution_count": null,
   "metadata": {
    "trusted": true
   },
   "outputs": [],
   "source": []
  },
  {
   "cell_type": "markdown",
   "metadata": {},
   "source": [
    "### Exercise 2: Valid Input Handling\n",
    "Write a program that:\n",
    "\n",
    "Iterates through a list of strings: [\"12\", \"34\", \"abc\", \"56\"]. <br>\n",
    "Tries to convert each string to an integer inside a try block. <br>\n",
    "If successful, the else block should print the converted integer. <br>\n",
    "If a ValueError occurs, print an error message instead."
   ]
  },
  {
   "cell_type": "code",
   "execution_count": null,
   "metadata": {
    "trusted": true
   },
   "outputs": [],
   "source": []
  },
  {
   "cell_type": "markdown",
   "metadata": {},
   "source": [
    "### Exercise 3: List Indexing with else Block\n",
    "Write a program that:\n",
    "\n",
    "Attempts to access an element from a list: my_list = [10, 20, 30, 40]. <br>\n",
    "Use a try block to catch an IndexError if the index is out of range. <br>\n",
    "If no exception occurs, the else block should print the accessed element. "
   ]
  },
  {
   "cell_type": "code",
   "execution_count": null,
   "metadata": {
    "trusted": true
   },
   "outputs": [],
   "source": []
  },
  {
   "cell_type": "markdown",
   "metadata": {},
   "source": [
    "### Exercise 4: Nested Try-Else with File Operations\n",
    "Create a program that:\n",
    "\n",
    "Tries to open a file numbers.txt. <br>\n",
    "Reads the file and converts each line to an integer inside a nested try block. <br>\n",
    "If the file is successfully opened and no errors occur, use the else block to print \"All operations completed successfully.\" <br>\n",
    "Handle any exceptions that arise (e.g., FileNotFoundError or ValueError)."
   ]
  },
  {
   "cell_type": "code",
   "execution_count": null,
   "metadata": {
    "trusted": true
   },
   "outputs": [],
   "source": []
  },
  {
   "cell_type": "markdown",
   "metadata": {},
   "source": [
    "## 4 The finally Block\n",
    "The finally block always executes, whether an exception occurs or not. It's used for cleanup actions."
   ]
  },
  {
   "cell_type": "code",
   "execution_count": null,
   "metadata": {
    "trusted": true
   },
   "outputs": [
    {
     "name": "stdout",
     "output_type": "stream",
     "text": [
      "File not found.\n"
     ]
    },
    {
     "ename": "NameError",
     "evalue": "name 'file' is not defined",
     "output_type": "error",
     "traceback": [
      "\u001b[1;31m---------------------------------------------------------------------------\u001b[0m",
      "\u001b[1;31mNameError\u001b[0m                                 Traceback (most recent call last)",
      "Cell \u001b[1;32mIn[20], line 7\u001b[0m\n\u001b[0;32m      5\u001b[0m     \u001b[38;5;28mprint\u001b[39m(\u001b[38;5;124m\"\u001b[39m\u001b[38;5;124mFile not found.\u001b[39m\u001b[38;5;124m\"\u001b[39m)\n\u001b[0;32m      6\u001b[0m \u001b[38;5;28;01mfinally\u001b[39;00m:\n\u001b[1;32m----> 7\u001b[0m     file\u001b[38;5;241m.\u001b[39mclose()\n\u001b[0;32m      8\u001b[0m     \u001b[38;5;28mprint\u001b[39m(\u001b[38;5;124m\"\u001b[39m\u001b[38;5;124mFile closed.\u001b[39m\u001b[38;5;124m\"\u001b[39m)\n",
      "\u001b[1;31mNameError\u001b[0m: name 'file' is not defined"
     ]
    }
   ],
   "source": [
    "try:\n",
    "    file = open('example.txt', 'r')\n",
    "    content = file.read()\n",
    "except FileNotFoundError:\n",
    "    print(\"File not found.\")\n",
    "finally:\n",
    "    file.close()\n",
    "    print(\"File closed.\")\n"
   ]
  },
  {
   "cell_type": "code",
   "execution_count": null,
   "metadata": {
    "trusted": true
   },
   "outputs": [
    {
     "name": "stdout",
     "output_type": "stream",
     "text": [
      "1\n",
      "The 'try except' is finished\n"
     ]
    }
   ],
   "source": [
    "try:\n",
    "  print(x)\n",
    "except:\n",
    "  print(\"Something went wrong\")\n",
    "finally:\n",
    "  print(\"The 'try except' is finished\")"
   ]
  },
  {
   "cell_type": "markdown",
   "metadata": {},
   "source": [
    "### Exercise 1: Division Operation with Cleanup\n",
    "Write a program that:\n",
    "\n",
    "Attempts to divide two numbers using a try block.<br>\n",
    "Handles ZeroDivisionError with an except block. <br>\n",
    "Uses a finally block to print \"Operation complete\" regardless of whether an exception occurred."
   ]
  },
  {
   "cell_type": "code",
   "execution_count": null,
   "metadata": {
    "trusted": true
   },
   "outputs": [],
   "source": [
    "def division_operation():\n",
    "    try:\n",
    "        numerator = float(input(\"Enter the numerator: \"))\n",
    "        denominator = float(input(\"Enter the denominator: \"))\n",
    "        result = numerator / denominator\n",
    "        print(f\"The result of the division is: {result}\")\n",
    "    except ZeroDivisionError:\n",
    "        print(\"Error: Division by zero is not allowed.\")\n",
    "    finally:\n",
    "        print(\"Operation complete.\")\n",
    "\n",
    "division_operation()\n"
   ]
  },
  {
   "cell_type": "markdown",
   "metadata": {},
   "source": [
    "### Exercise 2: File Handling with Cleanup\n",
    "Create a program that:\n",
    "\n",
    "Attempts to open a file called data.txt for reading. <br>\n",
    "Catches the FileNotFoundError if the file does not exist. <br>\n",
    "Uses the finally block to print \"Finished file operation\" to ensure proper cleanup."
   ]
  },
  {
   "cell_type": "code",
   "execution_count": null,
   "metadata": {
    "trusted": true
   },
   "outputs": [],
   "source": []
  },
  {
   "cell_type": "markdown",
   "metadata": {},
   "source": [
    "### Exercise 3: Nested Try-Finally Blocks\n",
    "Write a program that:\n",
    "\n",
    "Attempts to access elements in a list: my_list = [10, 20, 30]. <br>\n",
    "Handles IndexError if the index is out of range. <br>\n",
    "Uses a finally block inside the loop to print \"Access attempt finished\" for each iteration."
   ]
  },
  {
   "cell_type": "code",
   "execution_count": null,
   "metadata": {
    "trusted": true
   },
   "outputs": [],
   "source": []
  },
  {
   "cell_type": "markdown",
   "metadata": {},
   "source": [
    "### Exercise 4: Combining Multiple Exceptions with Finally\n",
    "Write a program that:\n",
    "\n",
    "Tries to convert strings from a list data = [\"42\", \"invalid\", \"33\"] to integers. <br>\n",
    "Handles ValueError if conversion fails. <br>\n",
    "Uses a finally block to print \"Finished processing element: <element>\" after each conversion attempt, regardless of success or failure."
   ]
  },
  {
   "cell_type": "code",
   "execution_count": null,
   "metadata": {
    "trusted": true
   },
   "outputs": [],
   "source": []
  },
  {
   "cell_type": "markdown",
   "metadata": {},
   "source": [
    "## 5. Raise an exception\n",
    "As a Python developer you can choose to throw an exception if a condition occurs.\n",
    "\n",
    "To throw (or raise) an exception, use the raise keyword."
   ]
  },
  {
   "cell_type": "code",
   "execution_count": null,
   "metadata": {
    "trusted": true
   },
   "outputs": [
    {
     "ename": "<class 'Exception'>",
     "evalue": "Sorry, no numbers below zero",
     "output_type": "error",
     "traceback": [
      "\u001b[0;31m---------------------------------------------------------------------------\u001b[0m",
      "\u001b[0;31mException\u001b[0m                                 Traceback (most recent call last)",
      "Cell \u001b[0;32mIn[18], line 4\u001b[0m\n\u001b[1;32m      1\u001b[0m x \u001b[38;5;241m=\u001b[39m \u001b[38;5;241m-\u001b[39m\u001b[38;5;241m1\u001b[39m\n\u001b[1;32m      3\u001b[0m \u001b[38;5;28;01mif\u001b[39;00m x \u001b[38;5;241m<\u001b[39m \u001b[38;5;241m0\u001b[39m:\n\u001b[0;32m----> 4\u001b[0m   \u001b[38;5;28;01mraise\u001b[39;00m \u001b[38;5;167;01mException\u001b[39;00m(\u001b[38;5;124m\"\u001b[39m\u001b[38;5;124mSorry, no numbers below zero\u001b[39m\u001b[38;5;124m\"\u001b[39m)\n",
      "\u001b[0;31mException\u001b[0m: Sorry, no numbers below zero"
     ]
    }
   ],
   "source": [
    "x = -1\n",
    "\n",
    "if x < 0:\n",
    "  raise Exception(\"Sorry, no numbers below zero\")"
   ]
  },
  {
   "cell_type": "markdown",
   "metadata": {},
   "source": [
    "The raise keyword is used to raise an exception.\n",
    "\n",
    "You can define what kind of error to raise, and the text to print to the user."
   ]
  },
  {
   "cell_type": "code",
   "execution_count": null,
   "metadata": {
    "trusted": true
   },
   "outputs": [
    {
     "ename": "<class 'TypeError'>",
     "evalue": "Only integers are allowed",
     "output_type": "error",
     "traceback": [
      "\u001b[0;31m---------------------------------------------------------------------------\u001b[0m",
      "\u001b[0;31mTypeError\u001b[0m                                 Traceback (most recent call last)",
      "Cell \u001b[0;32mIn[19], line 4\u001b[0m\n\u001b[1;32m      1\u001b[0m x \u001b[38;5;241m=\u001b[39m \u001b[38;5;124m\"\u001b[39m\u001b[38;5;124mhello\u001b[39m\u001b[38;5;124m\"\u001b[39m\n\u001b[1;32m      3\u001b[0m \u001b[38;5;28;01mif\u001b[39;00m \u001b[38;5;129;01mnot\u001b[39;00m \u001b[38;5;28mtype\u001b[39m(x) \u001b[38;5;129;01mis\u001b[39;00m \u001b[38;5;28mint\u001b[39m:\n\u001b[0;32m----> 4\u001b[0m   \u001b[38;5;28;01mraise\u001b[39;00m \u001b[38;5;167;01mTypeError\u001b[39;00m(\u001b[38;5;124m\"\u001b[39m\u001b[38;5;124mOnly integers are allowed\u001b[39m\u001b[38;5;124m\"\u001b[39m)\n",
      "\u001b[0;31mTypeError\u001b[0m: Only integers are allowed"
     ]
    }
   ],
   "source": [
    "x = \"hello\"\n",
    "\n",
    "if not type(x) is int:\n",
    "  raise TypeError(\"Only integers are allowed\")"
   ]
  },
  {
   "cell_type": "raw",
   "metadata": {},
   "source": [
    "https://www.w3schools.com/python/python_ref_exceptions.asp"
   ]
  },
  {
   "cell_type": "markdown",
   "metadata": {},
   "source": [
    "### Exercise 1: Raise a Custom ValueError\n",
    "Write a function check_positive(number) that:\n",
    "\n",
    "Accepts an integer as input. <br>\n",
    "Raises a ValueError with the message \"Number must be positive\" if the number is less than or equal to zero. <br>\n",
    "Otherwise, prints the number is valid."
   ]
  },
  {
   "cell_type": "code",
   "execution_count": null,
   "metadata": {
    "trusted": true
   },
   "outputs": [],
   "source": [
    "def check_positive(number):\n",
    "    if number <= 0:\n",
    "        raise ValueError(\"Number must be positive\")\n",
    "    print(f\"{number} is valid.\")\n",
    "\n",
    "try:\n",
    "    num = int(input(\"Enter an integer: \"))\n",
    "    check_positive(num)\n",
    "except ValueError as e:\n",
    "    print(f\"Error: {e}\")\n"
   ]
  },
  {
   "cell_type": "markdown",
   "metadata": {},
   "source": [
    "### Exercise 2: Raise a Custom TypeError\n",
    "Write a function check_string(value) that:\n",
    "\n",
    "Accepts a value as input. <br>\n",
    "Raises a TypeError with the message \"Expected a string\" if the value is not a string. <br>\n",
    "Otherwise, prints the string in uppercase."
   ]
  },
  {
   "cell_type": "code",
   "execution_count": null,
   "metadata": {
    "trusted": true
   },
   "outputs": [],
   "source": [
    "def check_string(value):\n",
    "    if not isinstance(value, str):\n",
    "        raise TypeError(\"Expected a string\")\n",
    "    print(value.upper())\n",
    "try:\n",
    "    user_input = input(\"Enter a value: \")\n",
    "    check_string(user_input)\n",
    "except TypeError as e:\n",
    "    print(f\"Error: {e}\")"
   ]
  },
  {
   "cell_type": "markdown",
   "metadata": {},
   "source": [
    "### Exercise 3: Raise an Exception in a Loop\n",
    "Write a program that iterates over a list of numbers numbers = [10, 20, -5, 30, -1].\n",
    "\n",
    "If a negative number is encountered, raise a RuntimeError with the message \"Negative number detected: <number>\". <br>\n",
    "Ensure the program stops when the exception is raised."
   ]
  },
  {
   "cell_type": "code",
   "execution_count": null,
   "metadata": {
    "trusted": true
   },
   "outputs": [],
   "source": [
    "numbers = [10, 20, -5, 30, -1]\n",
    "\n",
    "try:\n",
    "    for number in numbers:\n",
    "        if number < 0:\n",
    "            raise RuntimeError(f\"Negative number detected: {number}\")\n",
    "        print(f\"Number: {number}\")\n",
    "except RuntimeError as e:\n",
    "    print(f\"Error: {e}\")\n"
   ]
  },
  {
   "cell_type": "markdown",
   "metadata": {},
   "source": [
    "### Exercise 4: Raise a Custom ZeroDivisionError\n",
    "Write a function safe_divide(a, b) that:\n",
    "\n",
    "Accepts two numbers, a and b. <br>\n",
    "Raises a ZeroDivisionError with the message \"Denominator cannot be zero\" if b is zero. <br>\n",
    "Otherwise, returns the result of dividing a by b."
   ]
  },
  {
   "cell_type": "code",
   "execution_count": null,
   "metadata": {
    "trusted": true
   },
   "outputs": [],
   "source": [
    "def safe_divide(a, b):\n",
    "    if b == 0:\n",
    "        raise ZeroDivisionError(\"Denominator cannot be zero\")\n",
    "    return a / b\n",
    "try:\n",
    "    numerator = float(input(\"Enter the numerator: \"))\n",
    "    denominator = float(input(\"Enter the denominator: \"))\n",
    "    result = safe_divide(numerator, denominator)\n",
    "    print(f\"Result: {result}\")\n",
    "except ZeroDivisionError as e:\n",
    "    print(f\"Error: {e}\")\n"
   ]
  },
  {
   "cell_type": "markdown",
   "metadata": {},
   "source": [
    "### Exercise 5: Raise a Custom Exception\n",
    "Create a custom exception class InvalidPasswordError that:\n",
    "\n",
    "Is raised by a function validate_password(password) when the password does not meet the following criteria: <br>\n",
    "At least 8 characters long. <br>\n",
    "Contains at least one digit. <br>\n",
    "Contains at least one special character (@, #, $, etc.). <br>\n",
    "The exception should include a message explaining the specific reason(s) why the password is invalid. <br>\n",
    "If the password is valid, print \"Password is valid.\"\n"
   ]
  },
  {
   "cell_type": "code",
   "execution_count": null,
   "metadata": {
    "trusted": true
   },
   "outputs": [],
   "source": [
    "class InvalidPasswordError(Exception):\n",
    "    pass\n",
    "\n",
    "def validate_password(password):\n",
    "    reasons = []\n",
    "    if len(password) < 8:\n",
    "        reasons.append(\"Password must be at least 8 characters long.\")\n",
    "    if not any(char.isdigit() for char in password):\n",
    "        reasons.append(\"Password must contain at least one digit.\")\n",
    "    if not any(char in \"@#$%^&*()!\" for char in password):\n",
    "        reasons.append(\"Password must contain at least one special character (@, #, $, etc.).\")\n",
    "    if reasons:\n",
    "        raise InvalidPasswordError(\"Invalid password: \" + \" \".join(reasons))\n",
    "    \n",
    "    print(\"Password is valid.\")\n",
    "try:\n",
    "    user_password = input(\"Enter a password: \")\n",
    "    validate_password(user_password)\n",
    "except InvalidPasswordError as e:\n",
    "    print(f\"Error: {e}\")"
   ]
  }
 ],
 "metadata": {
  "kernelspec": {
   "display_name": "base",
   "language": "python",
   "name": "python3"
  },
  "language_info": {
   "codemirror_mode": {
    "name": "ipython",
    "version": 3
   },
   "file_extension": ".py",
   "mimetype": "text/x-python",
   "name": "python",
   "nbconvert_exporter": "python",
   "pygments_lexer": "ipython3",
   "version": "3.12.4"
  }
 },
 "nbformat": 4,
 "nbformat_minor": 4
}
