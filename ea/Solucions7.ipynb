{
  "metadata": {
    "kernelspec": {
      "name": "python",
      "display_name": "Python (Pyodide)",
      "language": "python"
    },
    "language_info": {
      "codemirror_mode": {
        "name": "python",
        "version": 3
      },
      "file_extension": ".py",
      "mimetype": "text/x-python",
      "name": "python",
      "nbconvert_exporter": "python",
      "pygments_lexer": "ipython3",
      "version": "3.8"
    }
  },
  "nbformat_minor": 4,
  "nbformat": 4,
  "cells": [
    {
      "cell_type": "markdown",
      "source": "# Functions in Python (Solutions)",
      "metadata": {}
    },
    {
      "cell_type": "markdown",
      "source": "## Definition",
      "metadata": {}
    },
    {
      "cell_type": "markdown",
      "source": "### Exercises\n\n**1) Write a function block_ip(ip) that takes an IP address as input and prints \"IP Blocked\" if the IP is in the blocklist, otherwise print \"IP Safe\". Use this list of blocked IPs: [\"192.168.1.5\", \"10.0.0.2\", \"203.0.113.7\"].**\n",
      "metadata": {}
    },
    {
      "cell_type": "code",
      "source": "\n# write your code here\n\nblocked_ips= [\"192.168.1.5\", \"10.0.0.2\", \"203.0.113.7\"]\n\ndef block_ip(ip):\n    if ip in blocked_ips:\n        print('IP Blocked' )\n    else:\n        print('IP Safe')\n",
      "metadata": {
        "trusted": true
      },
      "outputs": [],
      "execution_count": null
    },
    {
      "cell_type": "code",
      "source": "## solution test\n\nblock_ip(\"192.168.1.5\")",
      "metadata": {
        "trusted": true
      },
      "outputs": [],
      "execution_count": null
    },
    {
      "cell_type": "code",
      "source": "## solution test\n\nblock_ip(\"192.168.1.6\")",
      "metadata": {
        "trusted": true
      },
      "outputs": [],
      "execution_count": null
    },
    {
      "cell_type": "code",
      "source": "# alternative solution\n\ndef block_ip(ip, blocked_ips):\n    if ip in blocked_ips:\n        print('IP Blocked' )\n    else:\n        print('IP Safe')\n",
      "metadata": {
        "trusted": true
      },
      "outputs": [],
      "execution_count": null
    },
    {
      "cell_type": "code",
      "source": "block_ip(\"192.168.1.6\" ,[\"192.168.1.5\", \"10.0.0.2\", \"203.0.113.7\"])",
      "metadata": {
        "trusted": true
      },
      "outputs": [],
      "execution_count": null
    },
    {
      "cell_type": "markdown",
      "source": "**2) Define a function check_vulnerability(log_entry) that checks if a log entry contains the word \"vulnerability\". If so, it should return \"Vulnerability Found\", otherwise it should return \"No Vulnerability\".**",
      "metadata": {}
    },
    {
      "cell_type": "code",
      "source": "#write your code here\n\ndef check_vulnerability(log_entry):\n    if 'vulnerability' in log_entry:\n        print(\"Vulnerability Found\")\n    else:\n        print(\"No Vulnerability\")\n",
      "metadata": {
        "trusted": true
      },
      "outputs": [],
      "execution_count": null
    },
    {
      "cell_type": "code",
      "source": "## solution test\n\nlog_entry = \"bla bla bla bla bla bla bla\"\n\ncheck_vulnerability(log_entry)",
      "metadata": {
        "trusted": true
      },
      "outputs": [],
      "execution_count": null
    },
    {
      "cell_type": "markdown",
      "source": "**3) Create a function has_sql_injection(query) that checks if a given SQL query contains an SQL injection attempt (e.g., ' OR '1'='1). It should return True if an injection is found, otherwise return False.**",
      "metadata": {}
    },
    {
      "cell_type": "code",
      "source": "#write your code here\n\ndef has_sql_injection(query):\n    if \"' OR '1'='1\" in query:\n        print('An injection is found')\n        return True\n    else:\n        return False\n        \n    ",
      "metadata": {
        "trusted": true
      },
      "outputs": [],
      "execution_count": null
    },
    {
      "cell_type": "code",
      "source": "## solution test\nquery = \"' OR '1'='11\"\n#query = \"Select * Table\" \n\nhas_sql_injection(query)",
      "metadata": {
        "trusted": true
      },
      "outputs": [],
      "execution_count": null
    },
    {
      "cell_type": "markdown",
      "source": "## 2. Parameters and Return Values",
      "metadata": {}
    },
    {
      "cell_type": "markdown",
      "source": "### Exercises\n\n**1) Write a function detect_ddos(ip, traffic) that takes an IP address and the amount of traffic (in bytes). If the traffic is greater than 1000 bytes, print \"Potential DDoS attack from {ip}\", otherwise print \"Normal traffic from {ip}\".**",
      "metadata": {}
    },
    {
      "cell_type": "code",
      "source": "#write your code here\n\ndef detect_ddos(ip, traffic):\n    \"\"\"\n    parameters:\n    ip: string - Address IP\n    traffic: float - Amount of traffic (in bytes)\n\n    return : \n    None\n    \"\"\"\n    if traffic > 1000:\n        print(f\"Potential DDoS attack from {ip}\")\n    else:\n        print(f\"Normal traffic from {ip}\")",
      "metadata": {
        "trusted": true
      },
      "outputs": [],
      "execution_count": 2
    },
    {
      "cell_type": "code",
      "source": "# test solution 1\n\ndetect_ddos('192.186.1.1', 1000)",
      "metadata": {
        "trusted": true
      },
      "outputs": [
        {
          "name": "stdout",
          "text": "Normal traffic from 192.186.1.1\n",
          "output_type": "stream"
        }
      ],
      "execution_count": 3
    },
    {
      "cell_type": "code",
      "source": "# test solution 2\n\ndetect_ddos('192.186.1.1', 1001)",
      "metadata": {
        "trusted": true
      },
      "outputs": [
        {
          "name": "stdout",
          "text": "Potential DDoS attack from 192.186.1.1\n",
          "output_type": "stream"
        }
      ],
      "execution_count": 4
    },
    {
      "cell_type": "markdown",
      "source": "**3. Create a function password_strength(password) that takes a password as a parameter and returns:**\n\n* \"Weak\" if the password is less than 6 characters.\n* \"Medium\" if the password is between 6 and 10 characters.\n* \"Strong\" if the password is more than 10 characters.",
      "metadata": {}
    },
    {
      "cell_type": "code",
      "source": "#write you code here\ndef password_strength(password):\n    if len(password)< 6:\n        strength = \"Weak\"\n    elif len(password)>= 6 and len(password)< 10:\n        strength = \"Medium\"\n    else:\n        strength = \"Strong\"\n    return strength",
      "metadata": {
        "trusted": true
      },
      "outputs": [],
      "execution_count": 6
    },
    {
      "cell_type": "code",
      "source": "# solutions test\npassword_strength(str(1234568910))",
      "metadata": {
        "trusted": true
      },
      "outputs": [
        {
          "execution_count": 7,
          "output_type": "execute_result",
          "data": {
            "text/plain": "'Strong'"
          },
          "metadata": {}
        }
      ],
      "execution_count": 7
    },
    {
      "cell_type": "code",
      "source": "#alternative solution\n\ndef password_strength(password):\n    if len(password)< 6:\n        return \"Weak\"\n    elif len(password)>= 6 and len(password)< 10:\n        return \"Medium\"\n    else:\n        return \"Strong\"\n",
      "metadata": {
        "trusted": true
      },
      "outputs": [],
      "execution_count": 8
    },
    {
      "cell_type": "code",
      "source": "# solution test\npassword_strength(str(1234))",
      "metadata": {
        "trusted": true
      },
      "outputs": [
        {
          "execution_count": 9,
          "output_type": "execute_result",
          "data": {
            "text/plain": "'Weak'"
          },
          "metadata": {}
        }
      ],
      "execution_count": 9
    },
    {
      "cell_type": "markdown",
      "source": "## 3. Scope and Lifetime of Variables",
      "metadata": {}
    },
    {
      "cell_type": "markdown",
      "source": "### Exercises\n\n1) Write a function reset_attempts() that resets the global variable login_attempts to 0, and a function attempt_login() that increments the number of attempts. Simulate a failed login mechanism with a global login_attempts variable.\n\n",
      "metadata": {}
    },
    {
      "cell_type": "code",
      "source": "# write your code here\n\ndef reset_attempts():\n    global login_attempts  # this means that we are using a global variable  (a variable defined out of out function's scope), and we will modify it\n    login_attempts = 0   # reset the login_attempts variable \n\ndef attempt_login():\n    global login_attempts   # this means that we are using a global variable (a variable defined out of out function's scope), and we will modify it\n    login_attempts += 1  # increment the number of attempts\n    ",
      "metadata": {
        "trusted": true
      },
      "outputs": [],
      "execution_count": 29
    },
    {
      "cell_type": "code",
      "source": "# solution test\n\nlogin_attempts = 3\nreset_attempts()\nprint(f\"login attempts = {login_attempts}\")\nattempt_login()\nprint(f\"login attempts = {login_attempts}\")\n",
      "metadata": {
        "trusted": true
      },
      "outputs": [
        {
          "name": "stdout",
          "text": "login attempts = 0\nlogin attempts = 1\n",
          "output_type": "stream"
        }
      ],
      "execution_count": 30
    },
    {
      "cell_type": "markdown",
      "source": "**2) Create a function detect_intrusion() that takes a log entry and uses a local variable suspicious to detect the words \"unauthorized access\" or \"intrusion\". If detected, return True, otherwise False.**",
      "metadata": {}
    },
    {
      "cell_type": "code",
      "source": "# write your code\ndef detect_intrusion(log_entry):\n    if  \"unauthorized access\" in log_entry or  \"intrusion\" in log_entry:\n        return True\n    return False\n    ",
      "metadata": {
        "trusted": true
      },
      "outputs": [],
      "execution_count": 31
    },
    {
      "cell_type": "code",
      "source": "# Solution test\n\nlog_entry = \"bla bla bla intrusion bla bla\"\ndetect_intrusion(log_entry)",
      "metadata": {
        "trusted": true
      },
      "outputs": [
        {
          "execution_count": 32,
          "output_type": "execute_result",
          "data": {
            "text/plain": "True"
          },
          "metadata": {}
        }
      ],
      "execution_count": 32
    },
    {
      "cell_type": "code",
      "source": "# alternative : This is more general, since we can add, change and remove the suspicious words, our function will work \n\nsuspicious_words = [\"unauthorized access\", \"intrusion\"]\n\ndef detect_intrusion(log_entry):\n    for word in suspicious_words:\n        if word in log_entry:\n            return True  # if we find a suspicious word in the log_entry, the function immeadiately returns True\n    return False\n    ",
      "metadata": {
        "trusted": true
      },
      "outputs": [],
      "execution_count": 39
    },
    {
      "cell_type": "code",
      "source": "log_entry = \"bla bla bla intrusion bla bla\"\ndetect_intrusion(log_entry)",
      "metadata": {
        "trusted": true
      },
      "outputs": [
        {
          "execution_count": 41,
          "output_type": "execute_result",
          "data": {
            "text/plain": "True"
          },
          "metadata": {}
        }
      ],
      "execution_count": 41
    },
    {
      "cell_type": "markdown",
      "source": "**3) Write a function track_failed_logins() that tracks the number of failed login attempts globally. Each time the function is called, it increments the count. The function should print the total number of failed attempts.**",
      "metadata": {}
    },
    {
      "cell_type": "code",
      "source": "# write your code\n\ndef track_failed_logins():\n    global failed_attempts_count\n    failed_attempts_count +=1\n    print(f'Total number of failed attempts: {failed_attempts_count}')",
      "metadata": {
        "trusted": true
      },
      "outputs": [],
      "execution_count": 43
    },
    {
      "cell_type": "code",
      "source": "failed_attempts_count = 0 \ntrack_failed_logins()\ntrack_failed_logins()\ntrack_failed_logins()",
      "metadata": {
        "trusted": true
      },
      "outputs": [
        {
          "name": "stdout",
          "text": "Total number of failed attempts: 1\nTotal number of failed attempts: 2\nTotal number of failed attempts: 3\n",
          "output_type": "stream"
        }
      ],
      "execution_count": 48
    },
    {
      "cell_type": "code",
      "source": "",
      "metadata": {
        "trusted": true
      },
      "outputs": [],
      "execution_count": null
    }
  ]
}