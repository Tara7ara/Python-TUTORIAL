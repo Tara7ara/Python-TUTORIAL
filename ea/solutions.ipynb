{
  "metadata": {
    "kernelspec": {
      "name": "python",
      "display_name": "Python (Pyodide)",
      "language": "python"
    },
    "language_info": {
      "codemirror_mode": {
        "name": "python",
        "version": 3
      },
      "file_extension": ".py",
      "mimetype": "text/x-python",
      "name": "python",
      "nbconvert_exporter": "python",
      "pygments_lexer": "ipython3",
      "version": "3.8"
    }
  },
  "nbformat_minor": 4,
  "nbformat": 4,
  "cells": [
    {
      "cell_type": "markdown",
      "source": "#### Exercise 1\n\nWrite a script that asks the user for a password and a verification code. If both are correct, grant access; otherwise, deny access.\n\n To get access, the user has to input the password and the verificantion code \"securePass123\" and \"42\" . Otherwise, the access should be denied \n\n **tip** : verify the logical statement AND",
      "metadata": {}
    },
    {
      "cell_type": "code",
      "source": "# Inputs for password and verification code\npassword =  '@enti.cat'\nverification_code ='52'  ## write some value here to test your code\n\n# correct information conditions\ncorrect_password = \"securePass123\"\ncorrect_code = \"42\"",
      "metadata": {
        "trusted": true
      },
      "outputs": [],
      "execution_count": 8
    },
    {
      "cell_type": "code",
      "source": "if password == correct_code and verification_code == correct_code:\n    print('Granted access')\nelse:\n    print('Denied access')",
      "metadata": {
        "trusted": true
      },
      "outputs": [
        {
          "name": "stdout",
          "text": "Denied access\n",
          "output_type": "stream"
        }
      ],
      "execution_count": 9
    },
    {
      "cell_type": "code",
      "source": "#alternative solution\n\nif password == correct_code:\n    if verification_code == correct_code:\n        print('Granted acess')\n    else:\n        print('Denied access. Wrong code verification')\nelse:\n    print('Denied access. Wrong password')\n        \n",
      "metadata": {
        "trusted": true
      },
      "outputs": [
        {
          "name": "stdout",
          "text": "Denied access. Wrong password\n",
          "output_type": "stream"
        }
      ],
      "execution_count": 10
    },
    {
      "cell_type": "markdown",
      "source": "### Exercise 2 \n\nIn cybersecurity, access control is crucial to protect sensitive files. This exercise involves checking if a user has the required permission to access a file.\n\n**Task:** Write a Python script that checks if a user has the correct file permissions. The permissions can be represented as a string (e.g., \"r\" for read, \"w\" for write, \"x\" for execute). Based on the user's, print a message indicating whether the user has permission to access the file.\n\n\nFile1 needs requirement 'r'  and File2 requires permission 'w' or 'x' \n\nThe user \"ze_pqn\"  has permission 'r' in both files. \n\nIn your system, the user only needs to put the user name and the file to access.\n\nWrite the program in a way that do not import the file, the result output is correct.\n\n",
      "metadata": {}
    },
    {
      "cell_type": "code",
      "source": "#Store information about the user here\n\nuser_data = {'ze_pqn': {'File1': 'r', 'File2':'r'}}\npermission = {'File1':'r', 'File2':['w', 'x']}\n\n# information given by user\nusername = \"ze_pqn\"\nfile_to_access ='File2' \n\nuser_info = user_data[username][file_to_access]\nfile_info = permission[file_to_access]\n\nif user_info == file_info:\n    print('Granted access')\nelse:\n    print('Denied access')\n",
      "metadata": {
        "trusted": true
      },
      "outputs": [
        {
          "name": "stdout",
          "text": "Denied access\n",
          "output_type": "stream"
        }
      ],
      "execution_count": 15
    },
    {
      "cell_type": "markdown",
      "source": "### Exercise 1: Searching for a Suspicious IP Address in a Log\n\nIn this exercise, you will simulate searching through a list of logged IP addresses to identify any potentially suspicious activity.\n\n**Task**: You are given a list of IP addresses. Your task is to loop through this list and check if the \"suspicious\" IP address \"203.0.113.5\" appears in the logs. Print out a warning if the suspicious IP is found.",
      "metadata": {}
    },
    {
      "cell_type": "code",
      "source": "# List of 100 logged IP addresses (simulating a log file)\nip_log = [\n    \"192.168.0.1\", \"10.0.0.5\", \"192.168.0.2\", \"10.0.0.6\", \"203.0.113.5\", \"192.168.1.1\", \n    \"172.16.0.1\", \"10.0.0.7\", \"192.168.1.2\", \"172.16.0.2\", \"192.168.0.3\", \"10.0.0.8\", \n    \"172.16.0.3\", \"192.168.1.3\", \"10.0.0.9\", \"203.0.113.6\", \"192.168.0.4\", \"10.0.0.10\", \n    \"172.16.0.4\", \"192.168.1.4\", \"10.0.0.11\", \"192.168.0.5\", \"10.0.0.12\", \"172.16.0.5\", \n    \"192.168.1.5\", \"10.0.0.13\", \"192.168.0.6\", \"10.0.0.14\", \"172.16.0.6\", \"192.168.1.6\", \n    \"10.0.0.15\", \"192.168.0.7\", \"10.0.0.16\", \"172.16.0.7\", \"192.168.1.7\", \"10.0.0.17\", \n    \"192.168.0.8\", \"10.0.0.18\", \"172.16.0.8\", \"192.168.1.8\", \"10.0.0.19\", \"192.168.0.9\", \n    \"10.0.0.20\", \"172.16.0.9\", \"192.168.1.9\", \"10.0.0.21\", \"192.168.0.10\", \"10.0.0.22\", \n    \"172.16.0.10\", \"192.168.1.10\", \"10.0.0.23\", \"192.168.0.11\", \"10.0.0.24\", \"172.16.0.11\", \n    \"192.168.1.11\", \"10.0.0.25\", \"192.168.0.12\", \"10.0.0.26\", \"172.16.0.12\", \"192.168.1.12\", \n    \"10.0.0.27\", \"192.168.0.13\", \"10.0.0.28\", \"172.16.0.13\", \"192.168.1.13\", \"10.0.0.29\", \n    \"192.168.0.14\", \"10.0.0.30\", \"172.16.0.14\", \"192.168.1.14\", \"10.0.0.31\", \"192.168.0.15\", \n    \"10.0.0.32\", \"172.16.0.15\", \"192.168.1.15\", \"10.0.0.33\", \"192.168.0.16\", \"10.0.0.34\", \n    \"172.16.0.16\", \"192.168.1.16\", \"10.0.0.35\", \"192.168.0.17\", \"10.0.0.36\", \"172.16.0.17\", \n    \"192.168.1.17\", \"10.0.0.37\", \"192.168.0.18\", \"10.0.0.38\", \"172.16.0.18\", \"192.168.1.18\", \n    \"10.0.0.39\", \"192.168.0.19\", \"10.0.0.40\", \"172.16.0.19\", \"192.168.1.19\", \"10.0.0.41\"\n]",
      "metadata": {
        "trusted": true
      },
      "outputs": [],
      "execution_count": 17
    },
    {
      "cell_type": "code",
      "source": "suspicious_IP =  \"203.0.113.5\"\n\nLogged = False\n\nfor logged_IPs in ip_log:\n    if logged_IPs == suspicious_IP:\n        Logged = True\n        print('suspicious IP logged in')\n        break\n\nif not Logged:\n    print('suspicious IP did not log in')",
      "metadata": {
        "trusted": true
      },
      "outputs": [
        {
          "name": "stdout",
          "text": "suspicious IP logged in\n",
          "output_type": "stream"
        }
      ],
      "execution_count": 24
    },
    {
      "cell_type": "code",
      "source": "# Alternative solution (without for)\n\nsuspicious_IP =  \"203.0.113.5\"\n\nif suspicious_IP in ip_log:\n    print('suspicious IP logged in')\nelse:\n    print('suspicious IP did not log in')\n    ",
      "metadata": {
        "trusted": true
      },
      "outputs": [
        {
          "name": "stdout",
          "text": "suspicious IP logged in\n",
          "output_type": "stream"
        }
      ],
      "execution_count": 27
    }
  ]
}