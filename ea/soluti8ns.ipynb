{
  "metadata": {
    "kernelspec": {
      "name": "python",
      "display_name": "Python (Pyodide)",
      "language": "python"
    },
    "language_info": {
      "codemirror_mode": {
        "name": "python",
        "version": 3
      },
      "file_extension": ".py",
      "mimetype": "text/x-python",
      "name": "python",
      "nbconvert_exporter": "python",
      "pygments_lexer": "ipython3",
      "version": "3.8"
    }
  },
  "nbformat_minor": 4,
  "nbformat": 4,
  "cells": [
    {
      "cell_type": "markdown",
      "source": "# List of exercises",
      "metadata": {}
    },
    {
      "cell_type": "markdown",
      "source": "**1) Write a function even_or_odd(n) that takes an integer n and returns \"Even\" if the number is even and \"Odd\" if the number is odd.**",
      "metadata": {}
    },
    {
      "cell_type": "code",
      "source": "## write your code here\ndef even_or_odd(n):\n    if n% 2 == 0:\n        return 'Even'\n    else:\n        return 'Odd'",
      "metadata": {
        "trusted": true
      },
      "outputs": [],
      "execution_count": 1
    },
    {
      "cell_type": "code",
      "source": "#TEST\n\nfor x in range(1,10):\n    print(f'{x} is {even_or_odd(x)}' )",
      "metadata": {
        "trusted": true
      },
      "outputs": [
        {
          "name": "stdout",
          "text": "1 is Odd\n2 is Even\n3 is Odd\n4 is Even\n5 is Odd\n6 is Even\n7 is Odd\n8 is Even\n9 is Odd\n",
          "output_type": "stream"
        }
      ],
      "execution_count": 4
    },
    {
      "cell_type": "markdown",
      "source": "**2) Write a function find_largest(lst) that takes a list of integers and returns the largest number in the list.**",
      "metadata": {}
    },
    {
      "cell_type": "code",
      "source": "## write your code here\ndef find_largest(lst):\n    return max(lst)",
      "metadata": {
        "trusted": true
      },
      "outputs": [],
      "execution_count": 5
    },
    {
      "cell_type": "code",
      "source": "#TESTE \nlst = range(0,10)\nfind_largest(lst)",
      "metadata": {
        "trusted": true
      },
      "outputs": [
        {
          "execution_count": 6,
          "output_type": "execute_result",
          "data": {
            "text/plain": "9"
          },
          "metadata": {}
        }
      ],
      "execution_count": 6
    },
    {
      "cell_type": "code",
      "source": "# Alternative solution\n\ndef find_largest(lst):\n    largest = 0 \n    for i in lst:\n        if i > largest:\n            largest = i\n    return largest",
      "metadata": {
        "trusted": true
      },
      "outputs": [],
      "execution_count": 7
    },
    {
      "cell_type": "code",
      "source": "#TEST\nlst = range(10)\nfind_largest(lst)",
      "metadata": {
        "trusted": true
      },
      "outputs": [
        {
          "execution_count": 10,
          "output_type": "execute_result",
          "data": {
            "text/plain": "9"
          },
          "metadata": {}
        }
      ],
      "execution_count": 10
    },
    {
      "cell_type": "markdown",
      "source": "**3) Write a function sum_of_numbers(lst) that calculates the sum of all the numbers in a list.**",
      "metadata": {}
    },
    {
      "cell_type": "code",
      "source": "## write your code here \ndef sum_of_numbers(lst):\n    return sum(lst)",
      "metadata": {
        "trusted": true
      },
      "outputs": [],
      "execution_count": 11
    },
    {
      "cell_type": "code",
      "source": "#TEST\n\nlst = range(10)\nsum_of_numbers(lst)",
      "metadata": {
        "trusted": true
      },
      "outputs": [
        {
          "execution_count": 13,
          "output_type": "execute_result",
          "data": {
            "text/plain": "45"
          },
          "metadata": {}
        }
      ],
      "execution_count": 13
    },
    {
      "cell_type": "code",
      "source": "# alternative solution\n\ndef sum_of_numbers(lst):\n    sum = 0\n    for i in lst:\n        sum += i\n    return sum",
      "metadata": {
        "trusted": true
      },
      "outputs": [],
      "execution_count": 14
    },
    {
      "cell_type": "code",
      "source": "#TEST\n\nlst = range(10)\nsum_of_numbers(lst)",
      "metadata": {
        "trusted": true
      },
      "outputs": [
        {
          "execution_count": 15,
          "output_type": "execute_result",
          "data": {
            "text/plain": "45"
          },
          "metadata": {}
        }
      ],
      "execution_count": 15
    },
    {
      "cell_type": "markdown",
      "source": "**4) Write a function count_vowels(s) that takes a string s and counts how many vowels (a, e, i, o, u) are in the string.**",
      "metadata": {}
    },
    {
      "cell_type": "code",
      "source": "## write your code here \ndef count_vowels(s):\n    s = s.lower()\n    vowels = 'aeiou'\n    count = 0\n    for letter in s:\n        if letter in vowels:\n            count += 1\n    return count",
      "metadata": {
        "trusted": true
      },
      "outputs": [],
      "execution_count": 16
    },
    {
      "cell_type": "code",
      "source": "# TEST\nname = 'solution'\ncount_vowels(name)",
      "metadata": {
        "trusted": true
      },
      "outputs": [
        {
          "execution_count": 17,
          "output_type": "execute_result",
          "data": {
            "text/plain": "4"
          },
          "metadata": {}
        }
      ],
      "execution_count": 17
    },
    {
      "cell_type": "code",
      "source": "# alternative solution\ndef count_vowels(s):\n    s = s.lower()\n    vowels = 'aeiou'\n    count = [1 for x in s if x in vowels]\n    return sum(count)",
      "metadata": {
        "trusted": true
      },
      "outputs": [],
      "execution_count": 21
    },
    {
      "cell_type": "code",
      "source": "# TEST\nname = 'solution'\ncount_vowels(name)",
      "metadata": {
        "trusted": true
      },
      "outputs": [
        {
          "execution_count": 22,
          "output_type": "execute_result",
          "data": {
            "text/plain": "4"
          },
          "metadata": {}
        }
      ],
      "execution_count": 22
    },
    {
      "cell_type": "markdown",
      "source": "**5) Write a function find_primes(start, end) that finds all prime numbers between start and end (inclusive).**",
      "metadata": {}
    },
    {
      "cell_type": "code",
      "source": "## write your code here\ndef find_primes(start,end):\n    primes = [2,3]\n    candidate = primes[-1]+1 \n    while candidate <= end:\n        isPrime = True\n        for prime in primes:\n            if candidate % prime ==0:\n                isPrime = False\n                break\n        if isPrime:\n            primes.append(candidate)\n        candidate += 1\n    return [x for x in primes if x >= start]\n\n# Test the function\nstart = 10\nend = 50\nprint(find_primes(start, end))",
      "metadata": {
        "trusted": true
      },
      "outputs": [
        {
          "name": "stdout",
          "text": "[11, 13, 17, 19, 23, 29, 31, 37, 41, 43, 47]\n",
          "output_type": "stream"
        }
      ],
      "execution_count": 27
    },
    {
      "cell_type": "code",
      "source": "def find_primes(start, end):\n    primes = []\n    \n    def is_prime(n):\n        if n < 2:  \n            return False\n        for i in range(2, int(n**0.5) + 1):  \n            if n % i == 0:\n                return False\n        return True\n    \n    # Find primes between start and end (inclusive)\n    for num in range(start, end + 1):\n        if is_prime(num):\n            primes.append(num)\n    \n    return primes\n\n# Test the function\nstart = 10\nend = 50\nprint(find_primes(start, end))\n",
      "metadata": {
        "trusted": true
      },
      "outputs": [
        {
          "name": "stdout",
          "text": "[11, 13, 17, 19, 23, 29, 31, 37, 41, 43, 47]\n",
          "output_type": "stream"
        }
      ],
      "execution_count": 29
    },
    {
      "cell_type": "markdown",
      "source": "**6) Write a function multiplication_table(n) that prints the multiplication table for a given number n.**",
      "metadata": {}
    },
    {
      "cell_type": "code",
      "source": "## write your code here\n\ndef multiplication_table(n):\n    for i in range(10):\n        print(f'the multiplication of {n} by {i} is {i*n}')",
      "metadata": {
        "trusted": true
      },
      "outputs": [],
      "execution_count": 30
    },
    {
      "cell_type": "code",
      "source": "#TEST\nmultiplication_table(7)",
      "metadata": {
        "trusted": true
      },
      "outputs": [
        {
          "name": "stdout",
          "text": "the multiplication of 7 by 0 is 0\nthe multiplication of 7 by 1 is 7\nthe multiplication of 7 by 2 is 14\nthe multiplication of 7 by 3 is 21\nthe multiplication of 7 by 4 is 28\nthe multiplication of 7 by 5 is 35\nthe multiplication of 7 by 6 is 42\nthe multiplication of 7 by 7 is 49\nthe multiplication of 7 by 8 is 56\nthe multiplication of 7 by 9 is 63\n",
          "output_type": "stream"
        }
      ],
      "execution_count": 33
    },
    {
      "cell_type": "markdown",
      "source": "**7) Write a function factorial(n) that calculates the factorial of a number using a loop.**",
      "metadata": {}
    },
    {
      "cell_type": "code",
      "source": "## write your code here\ndef factorial(n):\n    if n == 0:\n        return 1\n    else:\n        return n*factorial(n-1)",
      "metadata": {
        "trusted": true
      },
      "outputs": [],
      "execution_count": 32
    },
    {
      "cell_type": "code",
      "source": "#TEST\nfactorial(10)",
      "metadata": {
        "trusted": true
      },
      "outputs": [
        {
          "execution_count": 34,
          "output_type": "execute_result",
          "data": {
            "text/plain": "3628800"
          },
          "metadata": {}
        }
      ],
      "execution_count": 34
    },
    {
      "cell_type": "code",
      "source": "# alternative solution\ndef factorial(n):\n    product = 1\n    for i in range(1,n+1):\n        product *= i\n    return product",
      "metadata": {
        "trusted": true
      },
      "outputs": [],
      "execution_count": 41
    },
    {
      "cell_type": "code",
      "source": "# TEST\nfactorial(10)",
      "metadata": {
        "trusted": true
      },
      "outputs": [
        {
          "execution_count": 40,
          "output_type": "execute_result",
          "data": {
            "text/plain": "3628800"
          },
          "metadata": {}
        }
      ],
      "execution_count": 40
    }
  ]
}