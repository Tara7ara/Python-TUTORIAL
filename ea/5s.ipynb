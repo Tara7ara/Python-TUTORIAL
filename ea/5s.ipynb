{
  "metadata": {
    "kernelspec": {
      "name": "python",
      "display_name": "Python (Pyodide)",
      "language": "python"
    },
    "language_info": {
      "codemirror_mode": {
        "name": "python",
        "version": 3
      },
      "file_extension": ".py",
      "mimetype": "text/x-python",
      "name": "python",
      "nbconvert_exporter": "python",
      "pygments_lexer": "ipython3",
      "version": "3.8"
    }
  },
  "nbformat_minor": 4,
  "nbformat": 4,
  "cells": [
    {
      "cell_type": "markdown",
      "source": "**Exercise 1:**  Password Retry Limit\nIn this exercise, you'll simulate a scenario where a user has a limited number of attempts to enter a password. If the correct password isn't entered within a certain number of attempts, the account is locked.\n\n**Task:** Write a program that allows the user to attempt to \"log in\" by guessing a password from a predefined list. They have 3 attempts, and after 3 failed attempts, print \"Account locked\".",
      "metadata": {}
    },
    {
      "cell_type": "code",
      "source": "# Correct password (hardcoded for this exercise)\ncorrect_password = \"secure123\"\n\n# Simulated list of password attempts (in a real scenario, these would be user inputs)\nattempts = [\"password\", \"12345\",\"secure123\"]\n\n#write program here\nlimit_attempt = 3\nnumber_attempt = 1\nindex = 0 \n\nwhile number_attempt <= 3 and index < len(attempts)-1 and attempts[index]!= correct_password :\n    number_attempt += 1\n    index += 1\n\nif attempts[index]== correct_password:\n    print('correct password')\nelif number_attempt ==3:\n    print('you do not have more attempts, it is blocked')\nelse: \n    print('try again')",
      "metadata": {
        "trusted": true
      },
      "outputs": [
        {
          "name": "stdout",
          "text": "correct password\n",
          "output_type": "stream"
        }
      ],
      "execution_count": 2
    },
    {
      "cell_type": "markdown",
      "source": "### Exercise 2: Detecting Continuous Failed Login Attempts\n\nCybersecurity systems often need to detect continuous failed login attempts to prevent brute-force attacks. In this exercise, you will simulate a system that keeps track of failed login attempts and locks the account after a certain number of consecutive failures.\n\n**Task:** Write a program that processes a series of login attempts. If 3 consecutive login attempts fail, the account will be locked. If a successful login occurs before reaching 3 consecutive failures, the counter is reset.",
      "metadata": {}
    },
    {
      "cell_type": "code",
      "source": "# Simulated login attempts: 0 indicates failure, 1 indicates success\nlogin_attempts = [0, 1, 0, 1, 0, 0, 0, 0, 1]\n\n\n#Write your program here\nconsecutive_failure = 0\nindex = 0\n\n#for attempt in login_attempts:\nwhile index < len(login_attempts) and consecutive_failure <3:\n    attempt = login_attempts[index]\n    if attempt == 0:\n        consecutive_failure += 1\n        print(f\"Fallo de inicio de sesion. Fallos consecutivos: {consecutive_failure}\")\n    else:\n        consecutive_failure = 0\n        print(\"Inicio de sesión exitoso. Contador de fallos reiniciado\")\n    index +=1\n\nif consecutive_failure == 3:\n    print(\"Cuenta bloqueada debido a 3 intentos fallidos consecutivos\")\n",
      "metadata": {
        "trusted": true
      },
      "outputs": [
        {
          "name": "stdout",
          "text": "Fallo de inicio de sesion. Fallos consecutivos: 1\nInicio de sesión exitoso. Contador de fallos reiniciado\nFallo de inicio de sesion. Fallos consecutivos: 1\nInicio de sesión exitoso. Contador de fallos reiniciado\nFallo de inicio de sesion. Fallos consecutivos: 1\nFallo de inicio de sesion. Fallos consecutivos: 2\nFallo de inicio de sesion. Fallos consecutivos: 3\nCuenta bloqueada debido a 3 intentos fallidos consecutivos\n",
          "output_type": "stream"
        }
      ],
      "execution_count": 34
    },
    {
      "cell_type": "markdown",
      "source": " ## Firewall Traffic Monitoring and Threat Detection\n\n**Problem:**\nYou are tasked with simulating a simple firewall that monitors a network's incoming traffic. The firewall checks two main criteria:\n\n**1) IP Address Check:** If an IP address matches any IP from a blocklist, the firewall will immediately block the traffic from that IP.\n\n**2) Packet Content Analysis:** For each IP address that is not blocked, the firewall analyzes the incoming packet data. If it detects a suspicious packet pattern (e.g., certain keywords or byte sequences), the IP will be marked as **under investigation**.\n\nThe firewall must process incoming traffic, and at the end, provide a report showing:\n\n* IPs that were blocked due to being on the blocklist.\n* IPs that were under investigation due to suspicious packet content.\n* IPs that passed the check without issues.\n\nThe program should use a combination of if/else, while, and for loops to solve the problem.\n\n**Firewall Rules:**\n* Blocklist IPs: If the IP address matches any in the blocklist, it is immediately blocked.\n* Suspicious Packet Patterns: The program should detect packets containing the words \"attack\", \"malware\", or \"phishing\".\n* Process all traffic logs and provide the final report of actions taken.",
      "metadata": {}
    },
    {
      "cell_type": "code",
      "source": "# Simulated blocklist of malicious IP addresses\nblocklist = [\"192.168.1.100\", \"10.0.0.5\", \"203.0.113.50\", \"172.16.0.2\"]\n\n# Incoming traffic data: each entry contains an IP and a list of packets (as strings)\ntraffic_log = [\n    {\"ip\": \"192.168.0.1\", \"packets\": [\"GET /index.html\", \"Host: example.com\", \"Data: harmless\"]},\n    {\"ip\": \"10.0.0.5\", \"packets\": [\"attack on port 22\", \"Host: compromised.com\"]},\n    {\"ip\": \"172.16.0.2\", \"packets\": [\"Data: normal traffic\", \"Host: normal.com\"]},\n    {\"ip\": \"203.0.113.5\", \"packets\": [\"Data: harmless\", \"phishing attempt detected\", \"Host: phishing.com\"]},\n    {\"ip\": \"192.168.1.10\", \"packets\": [\"GET /admin\", \"malware detected\", \"Host: danger.com\"]},\n    {\"ip\": \"192.168.0.15\", \"packets\": [\"POST /upload\", \"Data: user login\", \"Host: safe.com\"]}\n]\n\n# Keywords considered suspicious\nsuspicious_keywords = [\"attack\", \"malware\", \"phishing\"]\nsafe_ip = []\n\n\nfor log in traffic_log:\n\n    ip = log[\"ip\"]\n    packets = log[\"packets\"]\n\n    if ip in blocklist:\n        print(f\"The IP {ip} is blocked\")\n        to_remove.append(log)\n    else:\n      \n        for packet in packets:\n            for keyword in suspicious_keywords:\n                if keyword in packet:\n                    print(f\"The IP {ip} under investigation\")\n                    to_remove.append(log)\n                else:\n                    safe_ip.append(ip)\n                    \n\n\n\nprint(f'The safe ips are {set(safe_ip)}')\n     \n            \n                    \n\n",
      "metadata": {
        "trusted": true
      },
      "outputs": [
        {
          "name": "stdout",
          "text": "The IP 10.0.0.5 is blocked\nThe IP 172.16.0.2 is blocked\nThe IP 203.0.113.5 under investigation\nThe IP 203.0.113.5 under investigation\nThe IP 192.168.1.10 under investigation\nThe safe ips are {'192.168.0.15', '192.168.1.10', '192.168.0.1', '203.0.113.5'}\n",
          "output_type": "stream"
        }
      ],
      "execution_count": 14
    },
    {
      "cell_type": "code",
      "source": "",
      "metadata": {
        "trusted": true
      },
      "outputs": [],
      "execution_count": null
    }
  ]
}