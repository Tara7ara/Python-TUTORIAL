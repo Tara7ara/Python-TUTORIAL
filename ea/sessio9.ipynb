{
  "metadata": {
    "kernelspec": {
      "name": "python",
      "display_name": "Python (Pyodide)",
      "language": "python"
    },
    "language_info": {
      "codemirror_mode": {
        "name": "python",
        "version": 3
      },
      "file_extension": ".py",
      "mimetype": "text/x-python",
      "name": "python",
      "nbconvert_exporter": "python",
      "pygments_lexer": "ipython3",
      "version": "3.8"
    }
  },
  "nbformat_minor": 4,
  "nbformat": 4,
  "cells": [
    {
      "cell_type": "markdown",
      "source": "# List of exercises",
      "metadata": {}
    },
    {
      "cell_type": "code",
      "source": "# write your code here\n\ndef fizzbuzz():\n    for n in range(1,51):\n        if n %5 == 0 and n %3 == 0:\n            print(f\"FizzBuzz\")\n        elif n %5 == 0:\n            print(f\"Buzz\")\n        elif n %3 == 0:\n            print(f\"Fizz\")\n        else:\n            print(f\"{n}\")\n\n    ",
      "metadata": {
        "trusted": true
      },
      "outputs": [],
      "execution_count": 1
    },
    {
      "cell_type": "markdown",
      "source": "**9) Write a function find_min_max(lst) that returns both the smallest and largest number in a list.**",
      "metadata": {}
    },
    {
      "cell_type": "code",
      "source": "# write your code here\ndef find_min_max(lst):\n    return [min(lst), max(lst)]",
      "metadata": {
        "trusted": true
      },
      "outputs": [],
      "execution_count": 3
    },
    {
      "cell_type": "code",
      "source": "lista=[123,54,6,6543,773,6,87,68]\nfind_min_max(lista)",
      "metadata": {
        "trusted": true
      },
      "outputs": [
        {
          "execution_count": 4,
          "output_type": "execute_result",
          "data": {
            "text/plain": "[6, 6543]"
          },
          "metadata": {}
        }
      ],
      "execution_count": 4
    },
    {
      "cell_type": "markdown",
      "source": "**10) Write a function reverse_list(lst) that takes a list and returns a new list that is the reverse of the input list.**",
      "metadata": {}
    },
    {
      "cell_type": "code",
      "source": "# write your code here\ndef reverse_list(lst):\n    lst.reverse()\n    return lst\nprint(reverse_list([1,2,3,4,5]))",
      "metadata": {
        "trusted": true
      },
      "outputs": [
        {
          "name": "stdout",
          "text": "[5, 4, 3, 2, 1]\n",
          "output_type": "stream"
        }
      ],
      "execution_count": 5
    },
    {
      "cell_type": "code",
      "source": "def reverse_list(lst):\n    return lst[::-1]",
      "metadata": {
        "trusted": true
      },
      "outputs": [],
      "execution_count": 15
    },
    {
      "cell_type": "code",
      "source": "print(reverse_list([1,2,3,4,5]))",
      "metadata": {
        "trusted": true
      },
      "outputs": [
        {
          "name": "stdout",
          "text": "[5, 4, 3, 2, 1]\n",
          "output_type": "stream"
        }
      ],
      "execution_count": 16
    },
    {
      "cell_type": "markdown",
      "source": "**11) Write a function that categorizes a person's age into three groups:**\n\n* \"Child\" if age is less than 12, \n* \"Teenager\" if age is between 12 and 18 (inclusive),\n* \"Adult\" if age is greater than 18.",
      "metadata": {}
    },
    {
      "cell_type": "code",
      "source": "# write your code here\n\ndef categorize_by_age(n):\n    if n <12:\n        print (\"Child\")\n    elif n>=12 and n <=18:\n        print (\"Teenager\")\n    elif n>18:\n        print (\"Adult\")\n    return n\n\ncategorize_by_age(12)",
      "metadata": {
        "trusted": true
      },
      "outputs": [
        {
          "name": "stdout",
          "text": "Teenager\n",
          "output_type": "stream"
        },
        {
          "execution_count": 17,
          "output_type": "execute_result",
          "data": {
            "text/plain": "12"
          },
          "metadata": {}
        }
      ],
      "execution_count": 17
    },
    {
      "cell_type": "code",
      "source": "def categorize_by_age(n):\n    if n <12:\n        return \"Child\"\n    elif n>=12 and n <=18:\n         return \"Teenager\"\n    else:\n        return \"Adult\"\n\ncategorize_by_age(12)",
      "metadata": {
        "trusted": true
      },
      "outputs": [
        {
          "execution_count": 18,
          "output_type": "execute_result",
          "data": {
            "text/plain": "'Teenager'"
          },
          "metadata": {}
        }
      ],
      "execution_count": 18
    },
    {
      "cell_type": "markdown",
      "source": "**12) Write a function that prints all multiples of n between 1 and 30.**",
      "metadata": {}
    },
    {
      "cell_type": "code",
      "source": "# write your code here\ndef multiples_of_n(n):\n    if n> 30 or n<0:\n        return print(' there is no multiples of n')\n    for i in range(1,30):\n        if i % n == 0:\n            print(i)\n\nmultiples_of_n(31)",
      "metadata": {
        "trusted": true
      },
      "outputs": [
        {
          "name": "stdout",
          "text": " there is no multiples of n\n",
          "output_type": "stream"
        }
      ],
      "execution_count": 19
    },
    {
      "cell_type": "markdown",
      "source": "**13) Write a function area_of_circle(radius) that calculates and returns the area of a circle, given the radius. Use the formula:\nArea = π * radius^2 (Use π = 3.14159).**",
      "metadata": {}
    },
    {
      "cell_type": "code",
      "source": "# write your code here\ndef area_of_circle(radius):\n    pi = 3.14159\n\n    if radius > 0:\n        area = pi * radius ** 2\n        return area\n    else:\n        print (\"Radio no válido.\")\n        \narea_of_circle(2)",
      "metadata": {
        "trusted": true
      },
      "outputs": [
        {
          "execution_count": 20,
          "output_type": "execute_result",
          "data": {
            "text/plain": "12.56636"
          },
          "metadata": {}
        }
      ],
      "execution_count": 20
    },
    {
      "cell_type": "markdown",
      "source": "**14) Write a function find_largest(a, b, c) that takes three numbers as arguments and returns the largest one.**",
      "metadata": {}
    },
    {
      "cell_type": "code",
      "source": "# write your code here\n\ndef find_largest(a,b,c):\n    return max([a,b,c])\nprint(find_largest(3,4,5))\n\n    ",
      "metadata": {
        "trusted": true
      },
      "outputs": [
        {
          "name": "stdout",
          "text": "5\n",
          "output_type": "stream"
        }
      ],
      "execution_count": 21
    },
    {
      "cell_type": "markdown",
      "source": "**15)Write a function fahrenheit_to_celsius(fahrenheit) that converts a given temperature from Fahrenheit to Celsius using the formula:\nCelsius = (Fahrenheit - 32) * 5/9**",
      "metadata": {}
    },
    {
      "cell_type": "code",
      "source": "# write your code here\ndef fahrenheit_to_celsius(fahrenheit):\n    Celsius = (fahrenheit - 32) * 5/9\n    return Celsius\n\nfahrenheit_to_celsius(5)",
      "metadata": {
        "trusted": true
      },
      "outputs": [
        {
          "execution_count": 6,
          "output_type": "execute_result",
          "data": {
            "text/plain": "-15.0"
          },
          "metadata": {}
        }
      ],
      "execution_count": 6
    },
    {
      "cell_type": "markdown",
      "source": "**16) Each new term in the Fibonacci sequence is generated by adding the previous two terms. By starting with 1 and 2 , the first 10 terms will be:**\n\n\n1, 2, 3, 5, 8, 13, 21, 34, 55, 89...\n\n**By considering the terms in the Fibonacci sequence whose values do not exceed four million, find the sum of the even-valued terms.**",
      "metadata": {}
    },
    {
      "cell_type": "raw",
      "source": "expected output:\n\nThe sum of the even-valued terms is 4613732",
      "metadata": {}
    },
    {
      "cell_type": "code",
      "source": "def fibonacci_sequence(limit): \n    sequence = [1,2]\n    even_sequence = [2]\n    while sequence[-1] < limit:\n        new_number = sequence[-1] + sequence[-2]\n        sequence.append(new_number)\n        if new_number% 2 == 0:\n            even_sequence.append(new_number)\n    return sum(even_sequence)",
      "metadata": {
        "trusted": true
      },
      "outputs": [],
      "execution_count": 9
    },
    {
      "cell_type": "code",
      "source": "fibonacci_sequence(4*1e6)",
      "metadata": {
        "trusted": true
      },
      "outputs": [
        {
          "execution_count": 10,
          "output_type": "execute_result",
          "data": {
            "text/plain": "4613732"
          },
          "metadata": {}
        }
      ],
      "execution_count": 10
    },
    {
      "cell_type": "markdown",
      "source": "**17) The prime factors of 13195 are 5,7,13 and 29. What is the largest prime factor of the number 600851475143?** ",
      "metadata": {}
    },
    {
      "cell_type": "code",
      "source": "n = 600851475143\ni = 2\nwhile i * i <= n:\n    if n % i == 0:\n        n //= i\n    else:\n        i += 1\nprint (\"the largest prime number factor of 600851475143 is\", n)",
      "metadata": {
        "trusted": true
      },
      "outputs": [
        {
          "name": "stdout",
          "text": "the largest prime number factor of 600851475143 is 6857\n",
          "output_type": "stream"
        }
      ],
      "execution_count": 29
    },
    {
      "cell_type": "raw",
      "source": "expected output\nthe largest prime factor of  600851475143 is 6857",
      "metadata": {}
    }
  ]
}