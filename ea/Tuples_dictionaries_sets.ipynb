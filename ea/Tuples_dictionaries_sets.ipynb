{
  "metadata": {
    "kernelspec": {
      "name": "python",
      "display_name": "Python (Pyodide)",
      "language": "python"
    },
    "language_info": {
      "codemirror_mode": {
        "name": "python",
        "version": 3
      },
      "file_extension": ".py",
      "mimetype": "text/x-python",
      "name": "python",
      "nbconvert_exporter": "python",
      "pygments_lexer": "ipython3",
      "version": "3.8"
    }
  },
  "nbformat_minor": 4,
  "nbformat": 4,
  "cells": [
    {
      "cell_type": "markdown",
      "source": "# Tuples\n\n\nExercise 1)\nCreate a tuple named admin_credentials that holds the values ”admin”, ”root”, and ”P@ssw0rd”. Print the tuple and its length.",
      "metadata": {}
    },
    {
      "cell_type": "code",
      "source": "admin_credentials = (\"admin\", \"root\", \"P@ssw0rd\")\nprint(admin_credentials)\nprint(len(admin_credentials))",
      "metadata": {
        "trusted": true
      },
      "outputs": [
        {
          "name": "stdout",
          "text": "('admin', 'root', 'P@ssw0rd')\n3\n",
          "output_type": "stream"
        }
      ],
      "execution_count": 2
    },
    {
      "cell_type": "markdown",
      "source": "Exercise 2) Given the tuple ports = (22, 443, 80, 21, 8080), print the first and last port. Check if port 22 is in the tuple.",
      "metadata": {}
    },
    {
      "cell_type": "code",
      "source": "ports = (22, 443, 80, 21, 8080)\nprint(f\"The first port is {ports[0]}\")\nprint(f\"The last port is {ports[-1]}\")\nprint(22 in ports)",
      "metadata": {
        "trusted": true
      },
      "outputs": [
        {
          "name": "stdout",
          "text": "The first port is 22\nThe last port is 8080\nTrue\n",
          "output_type": "stream"
        }
      ],
      "execution_count": 3
    },
    {
      "cell_type": "markdown",
      "source": "Exercise 3) Try to modify the second value in the tuple user_roles = (\"admin\", \"user\", \"guest\")\nto ”superuser”. What error do you get?",
      "metadata": {}
    },
    {
      "cell_type": "code",
      "source": "user_roles = (\"admin\", \"user\", \"guest\")\nuser_roles[1] = \"superuser\" ",
      "metadata": {
        "trusted": true
      },
      "outputs": [
        {
          "ename": "<class 'TypeError'>",
          "evalue": "'tuple' object does not support item assignment",
          "traceback": [
            "\u001b[0;31m---------------------------------------------------------------------------\u001b[0m",
            "\u001b[0;31mTypeError\u001b[0m                                 Traceback (most recent call last)",
            "Cell \u001b[0;32mIn[4], line 2\u001b[0m\n\u001b[1;32m      1\u001b[0m user_roles \u001b[38;5;241m=\u001b[39m (\u001b[38;5;124m\"\u001b[39m\u001b[38;5;124madmin\u001b[39m\u001b[38;5;124m\"\u001b[39m, \u001b[38;5;124m\"\u001b[39m\u001b[38;5;124muser\u001b[39m\u001b[38;5;124m\"\u001b[39m, \u001b[38;5;124m\"\u001b[39m\u001b[38;5;124mguest\u001b[39m\u001b[38;5;124m\"\u001b[39m)\n\u001b[0;32m----> 2\u001b[0m \u001b[43muser_roles\u001b[49m\u001b[43m[\u001b[49m\u001b[38;5;241;43m1\u001b[39;49m\u001b[43m]\u001b[49m \u001b[38;5;241m=\u001b[39m \u001b[38;5;124m\"\u001b[39m\u001b[38;5;124msuperuser\u001b[39m\u001b[38;5;124m\"\u001b[39m \n",
            "\u001b[0;31mTypeError\u001b[0m: 'tuple' object does not support item assignment"
          ],
          "output_type": "error"
        }
      ],
      "execution_count": 4
    },
    {
      "cell_type": "markdown",
      "source": "Exercise 4) Given the tuple server_info = (\"192.168.1.10\", \"web_server\", \"active\"), unpack it into three variables: ip, role, and status, then print each variable.",
      "metadata": {}
    },
    {
      "cell_type": "code",
      "source": "server_info = (\"192.168.1.10\", \"web_server\", \"active\")\n#ip = server_info[0]\n#role = server_info[1]\n#status = server_info[2]\nip, role, status = server_info\n\nprint(f\"The ip is {ip}, the role is {role} and the status is {status}.\")",
      "metadata": {
        "trusted": true
      },
      "outputs": [
        {
          "name": "stdout",
          "text": "The ip is 192.168.1.10, the role is web_server and the status is active.\n",
          "output_type": "stream"
        }
      ],
      "execution_count": 6
    },
    {
      "cell_type": "markdown",
      "source": "# Dictionary\n\nCreate a dictionary firewall_rules where:\n• ”inbound” key maps to the list [”SSH”, ”HTTPS”].\n• ”outbound” key maps to the list [”DNS”, ”SMTP”].\nPrint the dictionary.",
      "metadata": {}
    },
    {
      "cell_type": "code",
      "source": "firewall_rules = {\n    \"inbound\" : [\"SSH\", \"HTTPS\"],\n    \"outbound\": [\"DNS\", \"SMPT\"]\n}\n\nprint(firewall_rules)",
      "metadata": {
        "trusted": true
      },
      "outputs": [
        {
          "name": "stdout",
          "text": "{'inbound': ['SSH', 'HTTPS'], 'outbound': ['DNS', 'SMPT']}\n",
          "output_type": "stream"
        }
      ],
      "execution_count": 15
    },
    {
      "cell_type": "markdown",
      "source": "Using the firewall_rules dictionary from the previous exercise, print all the inbound and outbound\nrules. Also, use the .get() method to safely access a non-existing key ”blocked”.",
      "metadata": {}
    },
    {
      "cell_type": "code",
      "source": "inbound_rules = firewall_rules.get(\"inbound\")\noutbound_rules = firewall_rules.get(\"outbound\")\nblocked_rules = firewall_rules.get(\"blocked\", \"No blocked rules defined\")\n\n#print(\"Inbound rules\", inbound_rules)\n#print(\"Outbound rules\", outbound_rules)\nprint('all rules are   ', firewall_rules.values())\nprint(\"Blocked rules\", blocked_rules)",
      "metadata": {
        "trusted": true
      },
      "outputs": [
        {
          "name": "stdout",
          "text": "all rules are    dict_values([['SSH', 'HTTPS'], ['DNS', 'SMPT']])\nBlocked rules No blocked rules defined\n",
          "output_type": "stream"
        }
      ],
      "execution_count": 16
    },
    {
      "cell_type": "markdown",
      "source": "Add a new key ”blocked” to the firewall_rules dictionary with the value [\"FTP\", \"Telnet\"] .\nThen, print the updated dictionary.",
      "metadata": {}
    },
    {
      "cell_type": "code",
      "source": "firewall_rules[\"blocked\"] = [\"FTP\", \"Telnet\"]\nprint(\"Updated Firewall Rules: \", firewall_rules)",
      "metadata": {
        "trusted": true
      },
      "outputs": [
        {
          "name": "stdout",
          "text": "Updated Firewall Rules:  {'inbound': ['SSH', 'HTTPS'], 'outbound': ['DNS', 'SMPT'], 'blocked': ['FTP', 'Telnet']}\n",
          "output_type": "stream"
        }
      ],
      "execution_count": 17
    },
    {
      "cell_type": "markdown",
      "source": "Create a dictionary attack_signatures where each attack type (”SQL Injection”, ”Cross-Site Scripting (XSS)”, ”Denial of Service (DoS)”) maps to a corresponding signature (SQL query, JavaScript code,\ntraffic overload). Add a new attack signature for ”Brute Force”.",
      "metadata": {}
    },
    {
      "cell_type": "code",
      "source": "attack_signature = {\n    \"SQL Injection\" : \"SQL query\",\n    \"Cross-Site Scripting (XSS)\" : \"JavaScript code\",\n    \"Denial of Service (DoS)\" : \"traffic overload\"\n}\n\nattack_signature[\"Brute Force\"] = \"Repeated login attempts\"\n\nprint(\"Attack signature\", attack_signature)",
      "metadata": {
        "trusted": true
      },
      "outputs": [
        {
          "name": "stdout",
          "text": "Attack signature {'SQL Injection': 'SQL query', 'Cross-Site Scripting (XSS)': 'JavaScript code', 'Denial of Service (DoS)': 'traffic overload', 'Brute Force': 'Repeated login attempts'}\n",
          "output_type": "stream"
        }
      ],
      "execution_count": 12
    },
    {
      "cell_type": "markdown",
      "source": "# Sets",
      "metadata": {}
    },
    {
      "cell_type": "markdown",
      "source": "Create a set called detected_ips that contains three IP addresses: ”192.168.1.1”, ”10.0.0.2”, ”192.168.1.1”.\nPrint the set and observe the uniqueness property.\n",
      "metadata": {}
    },
    {
      "cell_type": "code",
      "source": "detected_ips = {\"192.168.1.1\", \"10.0.0.2\", \"192.168.1.1\"}\nprint(detected_ips)",
      "metadata": {
        "trusted": true
      },
      "outputs": [
        {
          "name": "stdout",
          "text": "{'192.168.1.1', '10.0.0.2'}\n",
          "output_type": "stream"
        }
      ],
      "execution_count": 18
    },
    {
      "cell_type": "markdown",
      "source": "Create two sets:\nsecure_ips = {\"192.168.1.1\", \"10.0.0.2\"}\ninsecure_ips = {\"10.0.0.2\", \"172.16.0.1\"}\nPerform a union and intersection of the two sets. Print the results.",
      "metadata": {}
    },
    {
      "cell_type": "code",
      "source": "secure_ips={\"192.168.1.1\", \"10.0.0.2\"}\ninsecure_ips={\"10.0.0.2\", \"172.16.0.1\"}\nunionresult = secure_ips | insecure_ips\nprint(unionresult)",
      "metadata": {
        "trusted": true
      },
      "outputs": [
        {
          "name": "stdout",
          "text": "{'192.168.1.1', '10.0.0.2', '172.16.0.1'}\n",
          "output_type": "stream"
        }
      ],
      "execution_count": 20
    },
    {
      "cell_type": "markdown",
      "source": "Using the secure_ips and insecure_ips sets from the previous exercise, find the difference between\nsecure_ips and insecure_ips (i.e., IPs in secure_ips but not in insecure_ips).\n",
      "metadata": {}
    },
    {
      "cell_type": "code",
      "source": "diferente= secure_ips - insecure_ips\nprint(diferente)",
      "metadata": {
        "trusted": true
      },
      "outputs": [
        {
          "name": "stdout",
          "text": "{'192.168.1.1'}\n",
          "output_type": "stream"
        }
      ],
      "execution_count": 21
    },
    {
      "cell_type": "markdown",
      "source": "You have two sets of hashes:\nknown_hashes = {\"abc123\", \"def456\", \"ghi789\"}.\nsuspicious_hashes = {\"ghi789\", \"xyz123\", \"abc123\"}.\nFind the common hashes and the hashes that are in suspicious_hashes but not in known_hashes.\n",
      "metadata": {}
    },
    {
      "cell_type": "code",
      "source": "known_hashes = {\"abc123\", \"def456\", \"ghi789\"} \nsuspicious_hashes = {\"ghi789\", \"xyz123\", \"abc123\"}\n\ncommonhashes = known_hashes & suspicious_hashes\nnotequal = suspicious_hashes - known_hashes\nprint(\"The common is\", commonhashes , \"and the hashes that are in suspicious_hashes but not in known_hashes is\" , notequal)",
      "metadata": {
        "trusted": true
      },
      "outputs": [
        {
          "name": "stdout",
          "text": "The common is {'abc123', 'ghi789'} and the hashes that are in suspicious_hashes but not in known_hashes is {'xyz123'}\n",
          "output_type": "stream"
        }
      ],
      "execution_count": 25
    }
  ]
}